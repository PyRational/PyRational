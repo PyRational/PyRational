{
 "cells": [
  {
   "cell_type": "markdown",
   "metadata": {},
   "source": [
    "# ADG with two real variables and Covariance inequality\n",
    "**author:Alessio Benavoli**\n",
    "<a href=\"http://www.alessiobenavoli.com\"> alessiobenavoli.com </a>\n",
    "\n",
    "We will learn how to build a PyRational **ADG (Almost Desirable Gambles)** belief model on the outcome of an experiment whose space of possibility is $\\mathbb{R}^2$. "
   ]
  },
  {
   "cell_type": "code",
   "execution_count": 133,
   "metadata": {},
   "outputs": [
    {
     "name": "stdout",
     "output_type": "stream",
     "text": [
      "The autoreload extension is already loaded. To reload it, use:\n",
      "  %reload_ext autoreload\n"
     ]
    }
   ],
   "source": [
    "%load_ext autoreload\n",
    "%autoreload 2\n",
    "from __future__ import absolute_import \n",
    "from PyRational.models.ADG import  ADG\n",
    "from sympy import symbols,  Interval, Piecewise, Eq, exp\n",
    "import numpy as np\n",
    "import matplotlib.pyplot as plt\n",
    "%matplotlib inline"
   ]
  },
  {
   "cell_type": "markdown",
   "metadata": {},
   "source": [
    "*PyRational* uses *Sympy* for symbolic mathematics. We need to define in *Sympy*  a `symbol` associated to the real variable and its relative domain  (we use Sympy `Interval` for the latter)."
   ]
  },
  {
   "cell_type": "code",
   "execution_count": 141,
   "metadata": {},
   "outputs": [],
   "source": [
    "x1=symbols('x1', real=True)\n",
    "x2=symbols('x2', real=True)\n",
    "domain_x=[Interval(-10,10),Interval(-10,10)]"
   ]
  },
  {
   "cell_type": "code",
   "execution_count": 142,
   "metadata": {},
   "outputs": [
    {
     "data": {
      "text/html": [
       "<h4>ADG model</h4><table width=\"100%\" border=\"3\"  ><tr> <th bgcolor=\"#FFCC33\" width=\"30%\" style=\"text-align: left;\"> List of Symbols </th><td bgcolor=\"#f1f1f1\" style=\"text-align: left;\">[x1, x2]</th></tr><tr> <th bgcolor=\"#FFDD33\" width=\"30%\" style=\"text-align: left;\"> Domain </th><td bgcolor=\"#f6f6f6\" style=\"text-align: left;\">&Omega;=Interval(-10, 10) x Interval(-10, 10)</th></tr><tr> <th bgcolor=\"#FFCC33\" width=\"30%\" style=\"text-align: left;\"> List of desirable gambles </th><td bgcolor=\"#f1f1f1\" style=\"text-align: left;\">G=[]</th></tr><tr> <th bgcolor=\"#FFDD33\" width=\"30%\" style=\"text-align: left;\"> Avoiding sure loss? </th><td bgcolor=\"#f6f6f6\" style=\"text-align: left;\">  to be verified </th></tr></table>"
      ],
      "text/plain": [
       "<PyRational.models.ADG.ADG at 0x7fa31176e240>"
      ]
     },
     "execution_count": 142,
     "metadata": {},
     "output_type": "execute_result"
    }
   ],
   "source": [
    "model = ADG([x1,x2],domain_x)\n",
    "model"
   ]
  },
  {
   "cell_type": "markdown",
   "metadata": {},
   "source": [
    "We assume that our agent, Alice, finds the following gambles desirable."
   ]
  },
  {
   "cell_type": "code",
   "execution_count": 143,
   "metadata": {},
   "outputs": [],
   "source": [
    "G=[]\n",
    "G.append( x1) \n",
    "G.append(-x1) \n",
    "G.append(x1**2-1)\n",
    "G.append(1-x1**2)    \n",
    "G.append( x2) \n",
    "G.append(-x2) \n",
    "G.append(x2**2-1)\n",
    "G.append(1-x2**2) "
   ]
  },
  {
   "cell_type": "markdown",
   "metadata": {},
   "source": [
    "We add all these gambles to `model` as follows:"
   ]
  },
  {
   "cell_type": "code",
   "execution_count": 144,
   "metadata": {},
   "outputs": [
    {
     "data": {
      "text/html": [
       "<h4>ADG model</h4><table width=\"100%\" border=\"3\"  ><tr> <th bgcolor=\"#FFCC33\" width=\"30%\" style=\"text-align: left;\"> List of Symbols </th><td bgcolor=\"#f1f1f1\" style=\"text-align: left;\">[x1, x2]</th></tr><tr> <th bgcolor=\"#FFDD33\" width=\"30%\" style=\"text-align: left;\"> Domain </th><td bgcolor=\"#f6f6f6\" style=\"text-align: left;\">&Omega;=Interval(-10, 10) x Interval(-10, 10)</th></tr><tr> <th bgcolor=\"#FFCC33\" width=\"30%\" style=\"text-align: left;\"> List of desirable gambles </th><td bgcolor=\"#f1f1f1\" style=\"text-align: left;\">G=[x1, -x1, x1**2 - 1, -x1**2 + 1, x2, -x2, x2**2 - 1, -x2**2 + 1]</th></tr><tr> <th bgcolor=\"#FFDD33\" width=\"30%\" style=\"text-align: left;\"> Avoiding sure loss? </th><td bgcolor=\"#f6f6f6\" style=\"text-align: left;\">  to be verified </th></tr></table>"
      ],
      "text/plain": [
       "<PyRational.models.ADG.ADG at 0x7fa31176e240>"
      ]
     },
     "execution_count": 144,
     "metadata": {},
     "output_type": "execute_result"
    }
   ],
   "source": [
    "model.add_gambleList(G)\n",
    "model"
   ]
  },
  {
   "cell_type": "code",
   "execution_count": 145,
   "metadata": {},
   "outputs": [
    {
     "data": {
      "text/plain": [
       "[x1, -x1, x1**2 - 1, -x1**2 + 1, x2, -x2, x2**2 - 1, -x2**2 + 1]"
      ]
     },
     "execution_count": 145,
     "metadata": {},
     "output_type": "execute_result"
    }
   ],
   "source": [
    "model.Gambles"
   ]
  },
  {
   "cell_type": "markdown",
   "metadata": {},
   "source": [
    "Note that $G$ is a list that includes all Alice's desirable gambles. We now `build` the belief model\n",
    "and check if it avods sure loss:"
   ]
  },
  {
   "cell_type": "code",
   "execution_count": 146,
   "metadata": {},
   "outputs": [
    {
     "name": "stderr",
     "output_type": "stream",
     "text": [
      "/home/benavoli/anaconda3/lib/python3.6/site-packages/scipy/optimize/_linprog_ip.py:1262: OptimizeWarning: Solving system with option 'sym_pos':True failed. It is normal for this to happen occasionally, especially as the solution is approached. However, if you see this frequently, consider setting option 'sym_pos' to False.\n",
      "  OptimizeWarning)\n",
      "/home/benavoli/anaconda3/lib/python3.6/site-packages/scipy/optimize/_linprog_ip.py:1274: OptimizeWarning: Solving system with option 'sym_pos':False failed. This may happen occasionally, especially as the solution is approached. However, if you see this frequently, your problem may be numerically challenging. If you cannot improve the formulation, consider setting 'lstsq' to True. Consider also setting `presolve` to True, if it is not already.\n",
      "  OptimizeWarning)\n"
     ]
    },
    {
     "name": "stdout",
     "output_type": "stream",
     "text": [
      "Belief Model avoids sure  loss\n"
     ]
    },
    {
     "data": {
      "text/html": [
       "<h4>ADG model</h4><table width=\"100%\" border=\"3\"  ><tr> <th bgcolor=\"#FFCC33\" width=\"30%\" style=\"text-align: left;\"> List of Symbols </th><td bgcolor=\"#f1f1f1\" style=\"text-align: left;\">[x1, x2]</th></tr><tr> <th bgcolor=\"#FFDD33\" width=\"30%\" style=\"text-align: left;\"> Domain </th><td bgcolor=\"#f6f6f6\" style=\"text-align: left;\">&Omega;=Interval(-10, 10) x Interval(-10, 10)</th></tr><tr> <th bgcolor=\"#FFCC33\" width=\"30%\" style=\"text-align: left;\"> List of desirable gambles </th><td bgcolor=\"#f1f1f1\" style=\"text-align: left;\">G=posi(&Lscr;(&Omega;)<sup>+</sup>      &cup;    [x1, x1**2 - 1, x2, x2**2 - 1])</th></tr><tr> <th bgcolor=\"#FFDD33\" width=\"30%\" style=\"text-align: left;\"> Avoiding sure loss? </th><td bgcolor=\"#f6f6f6\" style=\"text-align: left;\"> Yes </th></tr></table>"
      ],
      "text/plain": [
       "<PyRational.models.ADG.ADG at 0x7fa31176e240>"
      ]
     },
     "execution_count": 146,
     "metadata": {},
     "output_type": "execute_result"
    }
   ],
   "source": [
    "optimoptions={'method_LISP': 'Cutting_plane', #'Cutting_plane', 'discretise'\n",
    "                       'SolverLP':'linprog', #'linprog', 'cplex'\n",
    "                       'LP_acc_constraints':1e-8,\n",
    "                       'SolverNLP':'differential_evolution',\n",
    "                       'NLP_alpha_cut':-0.00001,\n",
    "                       'num_support_points': 150,\n",
    "                       'verbose':False}\n",
    "model.buildModel(options=optimoptions)\n",
    "model.check_avs(options=optimoptions)\n",
    "model"
   ]
  },
  {
   "cell_type": "markdown",
   "metadata": {},
   "source": [
    "So Alice is **rational** or, equivalently, her set of desirable gambles is coherent."
   ]
  },
  {
   "cell_type": "markdown",
   "metadata": {},
   "source": [
    "## Inference\n",
    "\n",
    "Assume Alice is interested in computing her maximum buying/minimum selling price for the gamble\n",
    "\n",
    "$$\n",
    "f=x_1 x_2\n",
    "$$\n",
    "\n",
    " We can do that as follows:"
   ]
  },
  {
   "cell_type": "code",
   "execution_count": 147,
   "metadata": {},
   "outputs": [
    {
     "name": "stdout",
     "output_type": "stream",
     "text": [
      "-0.9923552573478531 <= E[x_1 x_2] <= 0.9951326399737326\n"
     ]
    }
   ],
   "source": [
    "f_range=(None,None)\n",
    "f=x1*x2  \n",
    "lp=model.lower_prevision(f,f_range,options=optimoptions)\n",
    "up=model.upper_prevision(f,f_range,options=optimoptions)\n",
    "print(lp,str(\"<= E[x_1 x_2] <=\"), up)"
   ]
  },
  {
   "cell_type": "markdown",
   "metadata": {},
   "source": [
    "We have obtained the covariance inequality for standardised variables:\n",
    "\n",
    "$$\n",
    "|E(X_1X_2)|^2 \\leq E(X_1^2) E(X_2^2).\n",
    "$$\n",
    "\n",
    "which implies\n",
    "\n",
    "$$\n",
    "-1=-\\sqrt{E(X_1^2) E(X_2^2)} \\leq E(X_1X_2) \\leq \\sqrt{E(X_1^2) E(X_2^2)}=1.\n",
    "$$"
   ]
  },
  {
   "cell_type": "markdown",
   "metadata": {},
   "source": [
    "## Structual judgments (independence)"
   ]
  },
  {
   "cell_type": "markdown",
   "metadata": {},
   "source": [
    "Under a judgment of 'independence', if Alice finds the gambles in $G_x$ on $x_1$ desirable and the gambles\n",
    "in $G_y$ on $x_2$ desirable, she should also find the gambles in $G_x \\otimes G_y$ desirable"
   ]
  },
  {
   "cell_type": "code",
   "execution_count": 157,
   "metadata": {},
   "outputs": [
    {
     "data": {
      "text/plain": [
       "[1,\n",
       " x2,\n",
       " -x2,\n",
       " x2**2 - 1,\n",
       " -x2**2 + 1,\n",
       " x1,\n",
       " x1*x2,\n",
       " -x1*x2,\n",
       " x1*(x2**2 - 1),\n",
       " x1*(-x2**2 + 1),\n",
       " -x1,\n",
       " -x1*x2,\n",
       " x1*x2,\n",
       " -x1*(x2**2 - 1),\n",
       " -x1*(-x2**2 + 1),\n",
       " x1**2 - 1,\n",
       " x2*(x1**2 - 1),\n",
       " -x2*(x1**2 - 1),\n",
       " (x1**2 - 1)*(x2**2 - 1),\n",
       " (x1**2 - 1)*(-x2**2 + 1),\n",
       " -x1**2 + 1,\n",
       " x2*(-x1**2 + 1),\n",
       " -x2*(-x1**2 + 1),\n",
       " (-x1**2 + 1)*(x2**2 - 1),\n",
       " (-x1**2 + 1)*(-x2**2 + 1)]"
      ]
     },
     "execution_count": 157,
     "metadata": {},
     "output_type": "execute_result"
    }
   ],
   "source": [
    "Gx=[]\n",
    "Gx.append( Piecewise((1,True)) ) # constant 1\n",
    "Gx.append( x1) \n",
    "Gx.append(-x1) \n",
    "Gx.append(x1**2-1)\n",
    "Gx.append(1-x1**2)    \n",
    "\n",
    "Gy=[]\n",
    "Gy.append( Piecewise((1,True)) )\n",
    "Gy.append( x2) \n",
    "Gy.append(-x2) \n",
    "Gy.append(x2**2-1)\n",
    "Gy.append(1-x2**2) \n",
    "\n",
    "Gprod=[a*b for a in Gx for b in Gy]\n",
    "Gprod"
   ]
  },
  {
   "cell_type": "code",
   "execution_count": 158,
   "metadata": {},
   "outputs": [
    {
     "name": "stderr",
     "output_type": "stream",
     "text": [
      "/home/benavoli/anaconda3/lib/python3.6/site-packages/scipy/optimize/_linprog_ip.py:1262: OptimizeWarning: Solving system with option 'sym_pos':True failed. It is normal for this to happen occasionally, especially as the solution is approached. However, if you see this frequently, consider setting option 'sym_pos' to False.\n",
      "  OptimizeWarning)\n",
      "/home/benavoli/anaconda3/lib/python3.6/site-packages/scipy/optimize/_linprog_ip.py:1274: OptimizeWarning: Solving system with option 'sym_pos':False failed. This may happen occasionally, especially as the solution is approached. However, if you see this frequently, your problem may be numerically challenging. If you cannot improve the formulation, consider setting 'lstsq' to True. Consider also setting `presolve` to True, if it is not already.\n",
      "  OptimizeWarning)\n"
     ]
    },
    {
     "name": "stdout",
     "output_type": "stream",
     "text": [
      "Belief Model avoids sure  loss\n"
     ]
    },
    {
     "data": {
      "text/html": [
       "<h4>ADG model</h4><table width=\"100%\" border=\"3\"  ><tr> <th bgcolor=\"#FFCC33\" width=\"30%\" style=\"text-align: left;\"> List of Symbols </th><td bgcolor=\"#f1f1f1\" style=\"text-align: left;\">[x1, x2]</th></tr><tr> <th bgcolor=\"#FFDD33\" width=\"30%\" style=\"text-align: left;\"> Domain </th><td bgcolor=\"#f6f6f6\" style=\"text-align: left;\">&Omega;=Interval(-10, 10) x Interval(-10, 10)</th></tr><tr> <th bgcolor=\"#FFCC33\" width=\"30%\" style=\"text-align: left;\"> List of desirable gambles </th><td bgcolor=\"#f1f1f1\" style=\"text-align: left;\">G=posi(&Lscr;(&Omega;)<sup>+</sup>      &cup;    [1, x2, x2**2 - 1, x1, x1*x2, x1*(x2**2 - 1), x1*(-x2**2 + 1), x1**2 - 1, x2*(x1**2 - 1), (x1**2 - 1)*(x2**2 - 1), (x1**2 - 1)*(-x2**2 + 1), x2*(-x1**2 + 1), (-x1**2 + 1)*(x2**2 - 1), (-x1**2 + 1)*(-x2**2 + 1)])</th></tr><tr> <th bgcolor=\"#FFDD33\" width=\"30%\" style=\"text-align: left;\"> Avoiding sure loss? </th><td bgcolor=\"#f6f6f6\" style=\"text-align: left;\"> Yes </th></tr></table>"
      ],
      "text/plain": [
       "<PyRational.models.ADG.ADG at 0x7fa31c234e80>"
      ]
     },
     "execution_count": 158,
     "metadata": {},
     "output_type": "execute_result"
    }
   ],
   "source": [
    "model1 = ADG([x1,x2],domain_x)\n",
    "model1.add_gambleList(Gprod)\n",
    "model1.buildModel(options=optimoptions)\n",
    "model1.check_avs(options=optimoptions)\n",
    "model1"
   ]
  },
  {
   "cell_type": "code",
   "execution_count": 150,
   "metadata": {},
   "outputs": [
    {
     "name": "stderr",
     "output_type": "stream",
     "text": [
      "/home/benavoli/anaconda3/lib/python3.6/site-packages/scipy/optimize/_linprog_ip.py:1262: OptimizeWarning: Solving system with option 'sym_pos':True failed. It is normal for this to happen occasionally, especially as the solution is approached. However, if you see this frequently, consider setting option 'sym_pos' to False.\n",
      "  OptimizeWarning)\n",
      "/home/benavoli/anaconda3/lib/python3.6/site-packages/scipy/optimize/_linprog_ip.py:1274: OptimizeWarning: Solving system with option 'sym_pos':False failed. This may happen occasionally, especially as the solution is approached. However, if you see this frequently, your problem may be numerically challenging. If you cannot improve the formulation, consider setting 'lstsq' to True. Consider also setting `presolve` to True, if it is not already.\n",
      "  OptimizeWarning)\n"
     ]
    },
    {
     "name": "stdout",
     "output_type": "stream",
     "text": [
      "9.999553206296863e-09 <= E[x_1 x_2] <= -9.999992691550608e-09\n"
     ]
    }
   ],
   "source": [
    "f_range=(None,None)\n",
    "f=x1*x2  \n",
    "lp=model1.lower_prevision(f,f_range,options=optimoptions)\n",
    "up=model1.upper_prevision(f,f_range,options=optimoptions)\n",
    "print(lp,str(\"<= E[x_1 x_2] <=\"), up)"
   ]
  },
  {
   "cell_type": "markdown",
   "metadata": {},
   "source": [
    "This time $E[x_1 x_2]=0$ which follows from independence"
   ]
  }
 ],
 "metadata": {
  "kernelspec": {
   "display_name": "Python 3",
   "language": "python",
   "name": "python3"
  },
  "language_info": {
   "codemirror_mode": {
    "name": "ipython",
    "version": 3
   },
   "file_extension": ".py",
   "mimetype": "text/x-python",
   "name": "python",
   "nbconvert_exporter": "python",
   "pygments_lexer": "ipython3",
   "version": "3.6.4"
  }
 },
 "nbformat": 4,
 "nbformat_minor": 2
}
