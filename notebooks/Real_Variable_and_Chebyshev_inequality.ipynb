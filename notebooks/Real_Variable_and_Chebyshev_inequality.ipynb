{
 "cells": [
  {
   "cell_type": "markdown",
   "metadata": {},
   "source": [
    "# ADG with a real variable and Chebyshev's inequality\n",
    "**author:Alessio Benavoli**\n",
    "<a href=\"http://www.alessiobenavoli.com\"> alessiobenavoli.com </a>\n",
    "\n",
    "We will learn how to build a PyRational **ADG (Almost Desirable Gambles)** belief model on the outcome of an experiment whose space of possibility is the real-line. "
   ]
  },
  {
   "cell_type": "code",
   "execution_count": 1,
   "metadata": {},
   "outputs": [],
   "source": [
    "%load_ext autoreload\n",
    "%autoreload 2\n",
    "from __future__ import absolute_import \n",
    "from PyRational.models.ADG import  ADG\n",
    "from sympy import symbols,  Interval, Piecewise, Eq, exp\n",
    "import numpy as np\n",
    "import matplotlib.pyplot as plt\n",
    "%matplotlib inline"
   ]
  },
  {
   "cell_type": "markdown",
   "metadata": {},
   "source": [
    "*PyRational* uses *Sympy* for symbolic mathematics. We need to define in *Sympy*  a `symbol` associated to the real variable and its relative domain  (we use Sympy `Interval` for the latter)."
   ]
  },
  {
   "cell_type": "code",
   "execution_count": 2,
   "metadata": {},
   "outputs": [],
   "source": [
    "x=symbols('x', real=True)\n",
    "domain_x=Interval(-50,50)"
   ]
  },
  {
   "cell_type": "code",
   "execution_count": 3,
   "metadata": {},
   "outputs": [
    {
     "data": {
      "text/html": [
       "<h4>ADG model</h4><table width=\"100%\" border=\"3\"  ><tr> <th bgcolor=\"#FFCC33\" width=\"30%\" style=\"text-align: left;\"> List of Symbols </th><td bgcolor=\"#f1f1f1\" style=\"text-align: left;\">[x]</th></tr><tr> <th bgcolor=\"#FFDD33\" width=\"30%\" style=\"text-align: left;\"> Domain </th><td bgcolor=\"#f6f6f6\" style=\"text-align: left;\">&Omega;=Interval(-50, 50)</th></tr><tr> <th bgcolor=\"#FFCC33\" width=\"30%\" style=\"text-align: left;\"> List of desirable gambles </th><td bgcolor=\"#f1f1f1\" style=\"text-align: left;\">G=[]</th></tr><tr> <th bgcolor=\"#FFDD33\" width=\"30%\" style=\"text-align: left;\"> Avoiding sure loss? </th><td bgcolor=\"#f6f6f6\" style=\"text-align: left;\">  to be verified </th></tr></table>"
      ],
      "text/plain": [
       "<PyRational.models.ADG.ADG at 0x7f31740212b0>"
      ]
     },
     "execution_count": 3,
     "metadata": {},
     "output_type": "execute_result"
    }
   ],
   "source": [
    "model = ADG([x],[domain_x])\n",
    "model"
   ]
  },
  {
   "cell_type": "markdown",
   "metadata": {},
   "source": [
    "We assume that our agent, Alice, finds the following gambles desirable."
   ]
  },
  {
   "cell_type": "code",
   "execution_count": 4,
   "metadata": {},
   "outputs": [],
   "source": [
    "G=[]\n",
    "G.append( x) \n",
    "G.append(-x) \n",
    "G.append(x**2-1)\n",
    "G.append(1-x**2)    "
   ]
  },
  {
   "cell_type": "markdown",
   "metadata": {},
   "source": [
    "We add all these gambles to `model` as follows:"
   ]
  },
  {
   "cell_type": "code",
   "execution_count": 5,
   "metadata": {},
   "outputs": [
    {
     "data": {
      "text/html": [
       "<h4>ADG model</h4><table width=\"100%\" border=\"3\"  ><tr> <th bgcolor=\"#FFCC33\" width=\"30%\" style=\"text-align: left;\"> List of Symbols </th><td bgcolor=\"#f1f1f1\" style=\"text-align: left;\">[x]</th></tr><tr> <th bgcolor=\"#FFDD33\" width=\"30%\" style=\"text-align: left;\"> Domain </th><td bgcolor=\"#f6f6f6\" style=\"text-align: left;\">&Omega;=Interval(-50, 50)</th></tr><tr> <th bgcolor=\"#FFCC33\" width=\"30%\" style=\"text-align: left;\"> List of desirable gambles </th><td bgcolor=\"#f1f1f1\" style=\"text-align: left;\">G=[x, -x, x**2 - 1, -x**2 + 1]</th></tr><tr> <th bgcolor=\"#FFDD33\" width=\"30%\" style=\"text-align: left;\"> Avoiding sure loss? </th><td bgcolor=\"#f6f6f6\" style=\"text-align: left;\">  to be verified </th></tr></table>"
      ],
      "text/plain": [
       "<PyRational.models.ADG.ADG at 0x7f31740212b0>"
      ]
     },
     "execution_count": 5,
     "metadata": {},
     "output_type": "execute_result"
    }
   ],
   "source": [
    "model.add_gambleList(G)\n",
    "model"
   ]
  },
  {
   "cell_type": "code",
   "execution_count": 6,
   "metadata": {},
   "outputs": [
    {
     "data": {
      "text/plain": [
       "[x, -x, x**2 - 1, -x**2 + 1]"
      ]
     },
     "execution_count": 6,
     "metadata": {},
     "output_type": "execute_result"
    }
   ],
   "source": [
    "model.Gambles"
   ]
  },
  {
   "cell_type": "markdown",
   "metadata": {},
   "source": [
    "Note that $G$ is a list that includes all Alice's desirable gambles. We now `build` the belief model\n",
    "and check if it avods sure loss:"
   ]
  },
  {
   "cell_type": "code",
   "execution_count": 7,
   "metadata": {},
   "outputs": [
    {
     "name": "stdout",
     "output_type": "stream",
     "text": [
      "Belief Model avoids sure  loss\n"
     ]
    },
    {
     "data": {
      "text/html": [
       "<h4>ADG model</h4><table width=\"100%\" border=\"3\"  ><tr> <th bgcolor=\"#FFCC33\" width=\"30%\" style=\"text-align: left;\"> List of Symbols </th><td bgcolor=\"#f1f1f1\" style=\"text-align: left;\">[x]</th></tr><tr> <th bgcolor=\"#FFDD33\" width=\"30%\" style=\"text-align: left;\"> Domain </th><td bgcolor=\"#f6f6f6\" style=\"text-align: left;\">&Omega;=Interval(-50, 50)</th></tr><tr> <th bgcolor=\"#FFCC33\" width=\"30%\" style=\"text-align: left;\"> List of desirable gambles </th><td bgcolor=\"#f1f1f1\" style=\"text-align: left;\">G=posi(&Lscr;(&Omega;)<sup>+</sup>      &cup;    [x, x**2 - 1])</th></tr><tr> <th bgcolor=\"#FFDD33\" width=\"30%\" style=\"text-align: left;\"> Avoiding sure loss? </th><td bgcolor=\"#f6f6f6\" style=\"text-align: left;\"> Yes </th></tr></table>"
      ],
      "text/plain": [
       "<PyRational.models.ADG.ADG at 0x7f31740212b0>"
      ]
     },
     "execution_count": 7,
     "metadata": {},
     "output_type": "execute_result"
    }
   ],
   "source": [
    "optimoptions={'method_LISP': 'Cutting_plane', #'Cutting_plane', 'discretise'\n",
    "                       'SolverLP':'cplex', #'linprog', 'cplex'\n",
    "                       'LP_acc_constraints':1e-30,\n",
    "                       'SolverNLP':'differential_evolution',\n",
    "                       'NLP_alpha_cut':-0.0001,\n",
    "                       'num_support_points': 60,\n",
    "                       'verbose':False}\n",
    "model.buildModel(options=optimoptions)\n",
    "model.check_avs(options=optimoptions)\n",
    "model"
   ]
  },
  {
   "cell_type": "markdown",
   "metadata": {},
   "source": [
    "So Alice is **rational** or, equivalently, her set of desirable gambles is coherent."
   ]
  },
  {
   "cell_type": "markdown",
   "metadata": {},
   "source": [
    "## Inference\n",
    "\n",
    "Assume Alice is interested in computing her maximum buying price for the gamble\n",
    "\n",
    "$$\n",
    "f=\\left\\{\\begin{array}{ll}\n",
    "1 & \\text{if } |x|\\leq k\\\\\n",
    "0 & \\text{if } |x|>k\\\\\n",
    "\\end{array}\\right.\n",
    "$$\n",
    "\n",
    "for some $k>0$. We can do that as follows:"
   ]
  },
  {
   "cell_type": "code",
   "execution_count": 8,
   "metadata": {},
   "outputs": [],
   "source": [
    "LP=[]\n",
    "f_range=(None,None)\n",
    "kappas=np.linspace(1,20,100)\n",
    "for k in kappas:\n",
    "    f=Piecewise((1,abs(x)<=k),(0.0,True))    \n",
    "    lp=model.lower_prevision(f,f_range,options=optimoptions)\n",
    "    LP.append(lp)\n",
    "LP=np.array(LP)"
   ]
  },
  {
   "cell_type": "code",
   "execution_count": 9,
   "metadata": {},
   "outputs": [
    {
     "data": {
      "text/plain": [
       "<matplotlib.legend.Legend at 0x7f3134931cf8>"
      ]
     },
     "execution_count": 9,
     "metadata": {},
     "output_type": "execute_result"
    },
    {
     "data": {
      "image/png": "[encoded data removed]",
      "text/plain": [
       "<matplotlib.figure.Figure at 0x7f313be48160>"
      ]
     },
     "metadata": {},
     "output_type": "display_data"
    }
   ],
   "source": [
    "plt.plot(kappas,LP,label='Lower Prevision')\n",
    "plt.plot(kappas,1-1/kappas**2,label=\"Chebyshev\\'s bound\")\n",
    "plt.xlabel('k')\n",
    "plt.legend()"
   ]
  },
  {
   "cell_type": "markdown",
   "metadata": {},
   "source": [
    "Hence, the lower prevision of $f$ coincides with Chebyshev's inequality for a standardised variable (zero mean and variance one).\n",
    "\n",
    "$$\n",
    "P(|X|\\leq k)\\leq 1-\\frac{1}{k^2}\n",
    "$$\n",
    "\n"
   ]
  },
  {
   "cell_type": "markdown",
   "metadata": {},
   "source": [
    "## Updating"
   ]
  },
  {
   "cell_type": "markdown",
   "metadata": {},
   "source": [
    "In ADG we can define updating by either defining an indicator on an event or defining a weighting function.\n",
    "This latter case is formally similar to Bayes'rule with proability density functions.\n",
    "Let us consider for instance the following unnormalised Gaussian density\n"
   ]
  },
  {
   "cell_type": "code",
   "execution_count": 10,
   "metadata": {},
   "outputs": [],
   "source": [
    "h = exp(-(x-1)**2/0.5)"
   ]
  },
  {
   "cell_type": "code",
   "execution_count": 11,
   "metadata": {},
   "outputs": [],
   "source": [
    "LP=[]\n",
    "f_range=(None,None)\n",
    "kappas=np.linspace(1,20,100)\n",
    "for k in kappas:\n",
    "    f=Piecewise((1,abs(x)<=k),(0.0,True))    \n",
    "    lp=model.lower_prevision(f,f_range,h=h,options=optimoptions)\n",
    "    LP.append(lp)\n",
    "LP=np.array(LP)"
   ]
  },
  {
   "cell_type": "code",
   "execution_count": 12,
   "metadata": {},
   "outputs": [
    {
     "data": {
      "text/plain": [
       "<matplotlib.legend.Legend at 0x7f3134a775c0>"
      ]
     },
     "execution_count": 12,
     "metadata": {},
     "output_type": "execute_result"
    },
    {
     "data": {
      "image/png": "[encoded data removed]",
      "text/plain": [
       "<matplotlib.figure.Figure at 0x7f31347fc1d0>"
      ]
     },
     "metadata": {},
     "output_type": "display_data"
    }
   ],
   "source": [
    "plt.plot(kappas,LP,label='Updated Lower Prevision')\n",
    "plt.plot(kappas,1-1/kappas**2,label=\"Chebyshev\\'s bound\")\n",
    "plt.xlabel('k')\n",
    "plt.legend()"
   ]
  },
  {
   "cell_type": "code",
   "execution_count": 13,
   "metadata": {},
   "outputs": [],
   "source": [
    "newG = model.updating(options=optimoptions,h=h)"
   ]
  },
  {
   "cell_type": "code",
   "execution_count": 14,
   "metadata": {},
   "outputs": [
    {
     "data": {
      "text/plain": [
       "[x + 0.332886488778677,\n",
       " -x + 1.60212040406126,\n",
       " x**2 - 9.47130647405148e-5,\n",
       " -x**2 + 3.12061775090938]"
      ]
     },
     "execution_count": 14,
     "metadata": {},
     "output_type": "execute_result"
    }
   ],
   "source": [
    "newG"
   ]
  }
 ],
 "metadata": {
  "kernelspec": {
   "display_name": "Python 3",
   "language": "python",
   "name": "python3"
  },
  "language_info": {
   "codemirror_mode": {
    "name": "ipython",
    "version": 3
   },
   "file_extension": ".py",
   "mimetype": "text/x-python",
   "name": "python",
   "nbconvert_exporter": "python",
   "pygments_lexer": "ipython3",
   "version": "3.6.4"
  }
 },
 "nbformat": 4,
 "nbformat_minor": 2
}
