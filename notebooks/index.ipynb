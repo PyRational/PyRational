{
 "cells": [
  {
   "cell_type": "markdown",
   "metadata": {},
   "source": [
    "# PyRational: The tool for rational modelling \n",
    "Written by Alessio Benavoli\n",
    "\n",
    "## 1. What is PyRational?\n",
    "\n",
    "PyRational is a tool for modelling rational choices based on several models of rationality. It has been implemented in Python.  \n",
    "\n",
    "The purpose of this manual is to provide a guide to use PyRational. The framework is BSD-3 licensed and we welcome collaborators to develop new functionalities. If you have any question or suggestions about the notebooks, please write an issue in the GitHub repository.\n",
    "\n",
    "## 2. Installation and setup\n",
    "\n",
    "The simplest way to install GPyOpt is using pip. Ubuntu users can do:\n",
    "\n",
    "`sudo apt-get install python-pip`\n",
    "\n",
    "`pip install PyRational`\n",
    "\n",
    "## 3. First steps with PyRational \n",
    "* Introduction to PyRational with a simple example\n",
    "* PyRational with a real variable (deriving Chebyshev inequality)\n",
    "* PyRational with two real variables (deriving covariance inequality and discussing independence)\n",
    "* Monty Hall "
   ]
  },
  {
   "cell_type": "code",
   "execution_count": null,
   "metadata": {},
   "outputs": [],
   "source": []
  }
 ],
 "metadata": {
  "kernelspec": {
   "display_name": "Python 3",
   "language": "python",
   "name": "python3"
  },
  "language_info": {
   "codemirror_mode": {
    "name": "ipython",
    "version": 3
   },
   "file_extension": ".py",
   "mimetype": "text/x-python",
   "name": "python",
   "nbconvert_exporter": "python",
   "pygments_lexer": "ipython3",
   "version": "3.6.4"
  }
 },
 "nbformat": 4,
 "nbformat_minor": 2
}
