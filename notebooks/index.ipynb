{
 "cells": [
  {
   "cell_type": "markdown",
   "metadata": {},
   "source": [
    "# PyRational: The tool for rational modelling \n",
    "Written by Alessio Benavoli\n",
    "\n",
    "## 1. What is PyRational?\n",
    "\n",
    "PyRational is a tool for modelling rational choices based on several models of rationality. It has been implemented in Python.  \n",
    "\n",
    "The purpose of this manual is to provide a guide to use PyRational. The framework is BSD-3 licensed and we welcome collaborators to develop new functionalities. If you have any question or suggestions about the notebooks, please write an issue in the GitHub repository.\n",
    "\n",
    "## 2. Installation and setup\n",
    "\n",
    "The simplest way to install PyRational is using pip. Ubuntu users can do:\n",
    "\n",
    "`sudo apt-get install python-pip`\n",
    "\n",
    "`pip install PyRational`\n",
    "\n",
    "## 3. First steps with PyRational \n",
    "* <a href=\"https://github.com/PyRational/PyRational/blob/master/notebooks/Introduction_to_PyRational_ADG.ipynb\">Introduction to PyRational with a simple example </a>\n",
    "* <a href=\"https://github.com/PyRational/PyRational/blob/master/notebooks/Real_Variable_and_Chebyshev_inequality.ipynb\">PyRational with a real variable (deriving Chebyshev inequality)\n",
    "* <a href=\"https://github.com/PyRational/PyRational/blob/master/notebooks/Two_Real_Variables_and_Covariance_Inequality.ipynb\">PyRational with two real variables (deriving covariance inequality and discussing independence) </a>\n",
    "* <a href=\"https://github.com/PyRational/PyRational/blob/master/notebooks/Monty_Hall_problem%20.ipynb\"> Monty Hall </a>"
   ]
  }
 ],
 "metadata": {
  "kernelspec": {
   "display_name": "Python 3",
   "language": "python",
   "name": "python3"
  },
  "language_info": {
   "codemirror_mode": {
    "name": "ipython",
    "version": 3
   },
   "file_extension": ".py",
   "mimetype": "text/x-python",
   "name": "python",
   "nbconvert_exporter": "python",
   "pygments_lexer": "ipython3",
   "version": "3.6.4"
  }
 },
 "nbformat": 4,
 "nbformat_minor": 2
}
