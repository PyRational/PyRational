{
 "cells": [
  {
   "cell_type": "markdown",
   "metadata": {},
   "source": [
    "# Monty Hall with  ADG \n",
    "\n",
    "**author: Alessio Benavoli**\n",
    "<a href=\"http://www.alessiobenavoli.com\"> alessiobenavoli.com </a>"
   ]
  },
  {
   "cell_type": "markdown",
   "metadata": {},
   "source": [
    "This is Monty Hall problem.\n",
    "\n",
    "Suppose you are on a game show, and you are given the choice of three doors: \n",
    "1. Behind one door is a Ferrari; \n",
    "2. behind the others, goats. \n",
    "\n",
    "You pick a door, say DoorA, and the TV presenter, who knows what's behind the doors, opens another door, say No. DoorC, which has a goat. He then says to you, \"Do you want to pick door No. DoorB?\" Is it to your advantage to switch your choice? \n",
    "\n",
    "To model this problem, we will use `ConditionalGambleList`\n"
   ]
  },
  {
   "cell_type": "code",
   "execution_count": 1,
   "metadata": {},
   "outputs": [],
   "source": [
    "%load_ext autoreload\n",
    "%autoreload 2\n",
    "from __future__ import absolute_import \n",
    "from PyRational.models.ADG import  ADG\n",
    "from PyRational.special.gambles import indicator, conditionalGambleList\n",
    "import numpy as np\n",
    "from sympy import symbols,  FiniteSet, Piecewise, Eq"
   ]
  },
  {
   "cell_type": "markdown",
   "metadata": {},
   "source": [
    "*PyRational* requires numerical input variables. \n",
    "We therefore encode door symbols (A,B,C) into integer data (1, 2, 3). "
   ]
  },
  {
   "cell_type": "markdown",
   "metadata": {},
   "source": [
    "*PyRational* uses *Sympy* for symbolic mathematics. We need to define in *Sympy*  a `symbol` associated to the door you choose and one to the location of the Ferrari  and their relative domains {1,2, 3} (we use Sympy `FiniteSet` for the latter)."
   ]
  },
  {
   "cell_type": "code",
   "execution_count": 2,
   "metadata": {},
   "outputs": [],
   "source": [
    "door     = symbols('d');\n",
    "ferrari  = symbols('f');\n",
    "domain_door=FiniteSet(1,2,3)\n",
    "domain_ferrari=FiniteSet(1,2,3)"
   ]
  },
  {
   "cell_type": "markdown",
   "metadata": {},
   "source": [
    "We are now ready to build our first *PyRational* model: **ADG**."
   ]
  },
  {
   "cell_type": "code",
   "execution_count": 3,
   "metadata": {
    "scrolled": true
   },
   "outputs": [
    {
     "data": {
      "text/html": [
       "<h4>ADG model</h4><table width=\"100%\" border=\"3\"  ><tr> <th bgcolor=\"#FFCC33\" width=\"30%\" style=\"text-align: left;\"> List of Symbols </th><td bgcolor=\"#f1f1f1\" style=\"text-align: left;\">[d, f]</th></tr><tr> <th bgcolor=\"#FFDD33\" width=\"30%\" style=\"text-align: left;\"> Domain </th><td bgcolor=\"#f6f6f6\" style=\"text-align: left;\">&Omega;={1, 2, 3} x {1, 2, 3}</th></tr><tr> <th bgcolor=\"#FFCC33\" width=\"30%\" style=\"text-align: left;\"> List of desirable gambles </th><td bgcolor=\"#f1f1f1\" style=\"text-align: left;\">G=[]</th></tr><tr> <th bgcolor=\"#FFDD33\" width=\"30%\" style=\"text-align: left;\"> Avoiding sure loss? </th><td bgcolor=\"#f6f6f6\" style=\"text-align: left;\">  to be verified </th></tr></table>"
      ],
      "text/plain": [
       "<PyRational.models.ADG.ADG at 0x7f9c18aa5320>"
      ]
     },
     "execution_count": 3,
     "metadata": {},
     "output_type": "execute_result"
    }
   ],
   "source": [
    "ListSymbols=[door,ferrari]\n",
    "ListDomains=[domain_door,domain_ferrari]\n",
    "model = ADG(ListSymbols,ListDomains)\n",
    "model"
   ]
  },
  {
   "cell_type": "markdown",
   "metadata": {},
   "source": [
    "We will use PyRational for rational reasoning.\n",
    "\n",
    "First, we define a gambling system for helping you selecting a door. In this case, since you don't know anything, you should only accept nonnegative gambles, i.e., all gambles of the form:\n",
    "\n",
    "g = a\\*indicator('Eq(f,1)') + b\\*indicator('Eq(f,2)') + c\\*indicator('Eq(f,3)')\n",
    "\n",
    "with $a,b,c\\geq0$.\n",
    "\n",
    "However, for the moment, we follow the standard modelling framework assuming that you are initially indifferent.\n",
    "You accept all gambles such that\n",
    "\n",
    "$$\n",
    "a+b+c=0\n",
    "$$\n",
    "\n",
    "like these ones."
   ]
  },
  {
   "cell_type": "code",
   "execution_count": 4,
   "metadata": {},
   "outputs": [],
   "source": [
    "g1= -1*indicator('Eq(f,1)') -1*indicator('Eq(f,2)') + 2*indicator('Eq(f,3)')\n",
    "g2= -1*indicator('Eq(f,1)') +2*indicator('Eq(f,2)') - 1*indicator('Eq(f,3)')\n",
    "g3=  2*indicator('Eq(f,1)') -1*indicator('Eq(f,2)') - 1*indicator('Eq(f,3)')\n",
    "cg0=[g1,g2,g3]"
   ]
  },
  {
   "cell_type": "markdown",
   "metadata": {},
   "source": [
    "What are the game's rules?\n",
    "\n",
    "Assume Ferrari is behind DoorB, then the TV presenter can only open DoorC. Hence, in this case, if you were asked to bet on which door the presenter will open, then you should bet on all gambles that are nonnegative on d==3, e.g.,"
   ]
  },
  {
   "cell_type": "code",
   "execution_count": 5,
   "metadata": {},
   "outputs": [],
   "source": [
    "g11 = -1*indicator('Eq(d,1)') -1*indicator('Eq(d,2)') + 1*indicator('Eq(d,3)')\n",
    "g21 = -1*indicator('Eq(d,1)') +1*indicator('Eq(d,2)') + 1*indicator('Eq(d,3)')\n",
    "g31 = +1*indicator('Eq(d,1)') -1*indicator('Eq(d,2)') + 1*indicator('Eq(d,3)')\n",
    "g41 = -1*indicator('Eq(d,1)') -1*indicator('Eq(d,2)') + 0*indicator('Eq(d,3)')\n",
    "g51 = -1*indicator('Eq(d,1)') +1*indicator('Eq(d,2)') + 0*indicator('Eq(d,3)')\n",
    "g61 = +1*indicator('Eq(d,1)') -1*indicator('Eq(d,2)') + 0*indicator('Eq(d,3)')\n",
    "\n",
    "cg1=conditionalGambleList([g11,g21,g31,g41,g51,g61],'Eq(f,2)')"
   ]
  },
  {
   "cell_type": "markdown",
   "metadata": {},
   "source": [
    "The last statement means that your are willing to accept all the above gambles conditional on $f$ being behind $2$.\n",
    "\n",
    "\n",
    "Assume Ferrari is behind DoorC, then the TV presenter can only open DoorB. Hence, in this case, if you were asked to bet on which door the presenter will open, then you should bet on all gambles that are nonnegative on d==2, e.g.,"
   ]
  },
  {
   "cell_type": "code",
   "execution_count": 6,
   "metadata": {},
   "outputs": [],
   "source": [
    "g12 = -1*indicator('Eq(d,1)') -1*indicator('Eq(d,3)') + 1*indicator('Eq(d,2)')\n",
    "g22 = -1*indicator('Eq(d,1)') +1*indicator('Eq(d,3)') + 1*indicator('Eq(d,2)')\n",
    "g32 = +1*indicator('Eq(d,1)') -1*indicator('Eq(d,3)') + 1*indicator('Eq(d,2)')\n",
    "g42 = -1*indicator('Eq(d,1)') -1*indicator('Eq(d,3)') + 0*indicator('Eq(d,2)')\n",
    "g52 = -1*indicator('Eq(d,1)') +1*indicator('Eq(d,3)') + 0*indicator('Eq(d,2)')\n",
    "g62 = +1*indicator('Eq(d,1)') -1*indicator('Eq(d,3)') + 0*indicator('Eq(d,2)')\n",
    "\n",
    "cg2=conditionalGambleList([g12,g22,g32,g42,g52,g62],'Eq(f,3)')"
   ]
  },
  {
   "cell_type": "markdown",
   "metadata": {},
   "source": [
    "Finally, in case Ferrari is behind DoorA, then the TV presenter can open any door between B and C. We assume again indifference between door 2 and door 3.\n"
   ]
  },
  {
   "cell_type": "code",
   "execution_count": 7,
   "metadata": {},
   "outputs": [],
   "source": [
    "g13 = -1*indicator('Eq(d,1)') + 1*indicator('Eq(d,2)') - 1*indicator('Eq(d,3)')\n",
    "g23 = -1*indicator('Eq(d,1)') - 1*indicator('Eq(d,2)') + 1*indicator('Eq(d,3)')\n",
    "g33 = +1*indicator('Eq(d,1)') - 1*indicator('Eq(d,2)') + 1*indicator('Eq(d,3)')\n",
    "g43 = +1*indicator('Eq(d,1)') + 1*indicator('Eq(d,2)') - 1*indicator('Eq(d,3)')\n",
    "g53 = -1*indicator('Eq(d,1)')\n",
    "\n",
    "\n",
    "\n",
    "cg3=conditionalGambleList([g13,g23,g33,g43,g53],'Eq(f,1)')"
   ]
  },
  {
   "cell_type": "code",
   "execution_count": 8,
   "metadata": {},
   "outputs": [
    {
     "data": {
      "text/plain": [
       "[-Piecewise((1, Eq(f, 1)), (0, True)) - Piecewise((1, Eq(f, 2)), (0, True)) + 2*Piecewise((1, Eq(f, 3)), (0, True)),\n",
       " -Piecewise((1, Eq(f, 1)), (0, True)) + 2*Piecewise((1, Eq(f, 2)), (0, True)) - Piecewise((1, Eq(f, 3)), (0, True)),\n",
       " 2*Piecewise((1, Eq(f, 1)), (0, True)) - Piecewise((1, Eq(f, 2)), (0, True)) - Piecewise((1, Eq(f, 3)), (0, True)),\n",
       " (-Piecewise((1, Eq(d, 1)), (0, True)) - Piecewise((1, Eq(d, 2)), (0, True)) + Piecewise((1, Eq(d, 3)), (0, True)))*Piecewise((1, Eq(f, 2)), (0, True)),\n",
       " (-Piecewise((1, Eq(d, 1)), (0, True)) + Piecewise((1, Eq(d, 2)), (0, True)) + Piecewise((1, Eq(d, 3)), (0, True)))*Piecewise((1, Eq(f, 2)), (0, True)),\n",
       " (Piecewise((1, Eq(d, 1)), (0, True)) - Piecewise((1, Eq(d, 2)), (0, True)) + Piecewise((1, Eq(d, 3)), (0, True)))*Piecewise((1, Eq(f, 2)), (0, True)),\n",
       " (-Piecewise((1, Eq(d, 1)), (0, True)) - Piecewise((1, Eq(d, 2)), (0, True)))*Piecewise((1, Eq(f, 2)), (0, True)),\n",
       " (-Piecewise((1, Eq(d, 1)), (0, True)) + Piecewise((1, Eq(d, 2)), (0, True)))*Piecewise((1, Eq(f, 2)), (0, True)),\n",
       " (Piecewise((1, Eq(d, 1)), (0, True)) - Piecewise((1, Eq(d, 2)), (0, True)))*Piecewise((1, Eq(f, 2)), (0, True)),\n",
       " (-Piecewise((1, Eq(d, 1)), (0, True)) + Piecewise((1, Eq(d, 2)), (0, True)) - Piecewise((1, Eq(d, 3)), (0, True)))*Piecewise((1, Eq(f, 3)), (0, True)),\n",
       " (-Piecewise((1, Eq(d, 1)), (0, True)) + Piecewise((1, Eq(d, 2)), (0, True)) + Piecewise((1, Eq(d, 3)), (0, True)))*Piecewise((1, Eq(f, 3)), (0, True)),\n",
       " (Piecewise((1, Eq(d, 1)), (0, True)) + Piecewise((1, Eq(d, 2)), (0, True)) - Piecewise((1, Eq(d, 3)), (0, True)))*Piecewise((1, Eq(f, 3)), (0, True)),\n",
       " (-Piecewise((1, Eq(d, 1)), (0, True)) - Piecewise((1, Eq(d, 3)), (0, True)))*Piecewise((1, Eq(f, 3)), (0, True)),\n",
       " (-Piecewise((1, Eq(d, 1)), (0, True)) + Piecewise((1, Eq(d, 3)), (0, True)))*Piecewise((1, Eq(f, 3)), (0, True)),\n",
       " (Piecewise((1, Eq(d, 1)), (0, True)) - Piecewise((1, Eq(d, 3)), (0, True)))*Piecewise((1, Eq(f, 3)), (0, True)),\n",
       " (-Piecewise((1, Eq(d, 1)), (0, True)) + Piecewise((1, Eq(d, 2)), (0, True)) - Piecewise((1, Eq(d, 3)), (0, True)))*Piecewise((1, Eq(f, 1)), (0, True)),\n",
       " (-Piecewise((1, Eq(d, 1)), (0, True)) - Piecewise((1, Eq(d, 2)), (0, True)) + Piecewise((1, Eq(d, 3)), (0, True)))*Piecewise((1, Eq(f, 1)), (0, True)),\n",
       " (Piecewise((1, Eq(d, 1)), (0, True)) - Piecewise((1, Eq(d, 2)), (0, True)) + Piecewise((1, Eq(d, 3)), (0, True)))*Piecewise((1, Eq(f, 1)), (0, True)),\n",
       " (Piecewise((1, Eq(d, 1)), (0, True)) + Piecewise((1, Eq(d, 2)), (0, True)) - Piecewise((1, Eq(d, 3)), (0, True)))*Piecewise((1, Eq(f, 1)), (0, True)),\n",
       " -Piecewise((1, Eq(d, 1)), (0, True))*Piecewise((1, Eq(f, 1)), (0, True))]"
      ]
     },
     "execution_count": 8,
     "metadata": {},
     "output_type": "execute_result"
    }
   ],
   "source": [
    "cg=cg0.copy()\n",
    "cg.extend(cg1)\n",
    "cg.extend(cg2)\n",
    "cg.extend(cg3)\n",
    "model = ADG(ListSymbols,ListDomains)\n",
    "cg"
   ]
  },
  {
   "cell_type": "markdown",
   "metadata": {},
   "source": [
    "We add all these gambles to `model` as follows:"
   ]
  },
  {
   "cell_type": "code",
   "execution_count": 9,
   "metadata": {},
   "outputs": [
    {
     "data": {
      "text/html": [
       "<h4>ADG model</h4><table width=\"100%\" border=\"3\"  ><tr> <th bgcolor=\"#FFCC33\" width=\"30%\" style=\"text-align: left;\"> List of Symbols </th><td bgcolor=\"#f1f1f1\" style=\"text-align: left;\">[d, f]</th></tr><tr> <th bgcolor=\"#FFDD33\" width=\"30%\" style=\"text-align: left;\"> Domain </th><td bgcolor=\"#f6f6f6\" style=\"text-align: left;\">&Omega;={1, 2, 3} x {1, 2, 3}</th></tr><tr> <th bgcolor=\"#FFCC33\" width=\"30%\" style=\"text-align: left;\"> List of desirable gambles </th><td bgcolor=\"#f1f1f1\" style=\"text-align: left;\">G=[-Piecewise((1, Eq(f, 1)), (0, True)) - Piecewise((1, Eq(f, 2)), (0, True)) + 2*Piecewise((1, Eq(f, 3)), (0, True)), -Piecewise((1, Eq(f, 1)), (0, True)) + 2*Piecewise((1, Eq(f, 2)), (0, True)) - Piecewise((1, Eq(f, 3)), (0, True)), 2*Piecewise((1, Eq(f, 1)), (0, True)) - Piecewise((1, Eq(f, 2)), (0, True)) - Piecewise((1, Eq(f, 3)), (0, True)), (-Piecewise((1, Eq(d, 1)), (0, True)) - Piecewise((1, Eq(d, 2)), (0, True)) + Piecewise((1, Eq(d, 3)), (0, True)))*Piecewise((1, Eq(f, 2)), (0, True)), (-Piecewise((1, Eq(d, 1)), (0, True)) + Piecewise((1, Eq(d, 2)), (0, True)) + Piecewise((1, Eq(d, 3)), (0, True)))*Piecewise((1, Eq(f, 2)), (0, True)), (Piecewise((1, Eq(d, 1)), (0, True)) - Piecewise((1, Eq(d, 2)), (0, True)) + Piecewise((1, Eq(d, 3)), (0, True)))*Piecewise((1, Eq(f, 2)), (0, True)), (-Piecewise((1, Eq(d, 1)), (0, True)) - Piecewise((1, Eq(d, 2)), (0, True)))*Piecewise((1, Eq(f, 2)), (0, True)), (-Piecewise((1, Eq(d, 1)), (0, True)) + Piecewise((1, Eq(d, 2)), (0, True)))*Piecewise((1, Eq(f, 2)), (0, True)), (Piecewise((1, Eq(d, 1)), (0, True)) - Piecewise((1, Eq(d, 2)), (0, True)))*Piecewise((1, Eq(f, 2)), (0, True)), (-Piecewise((1, Eq(d, 1)), (0, True)) + Piecewise((1, Eq(d, 2)), (0, True)) - Piecewise((1, Eq(d, 3)), (0, True)))*Piecewise((1, Eq(f, 3)), (0, True)), (-Piecewise((1, Eq(d, 1)), (0, True)) + Piecewise((1, Eq(d, 2)), (0, True)) + Piecewise((1, Eq(d, 3)), (0, True)))*Piecewise((1, Eq(f, 3)), (0, True)), (Piecewise((1, Eq(d, 1)), (0, True)) + Piecewise((1, Eq(d, 2)), (0, True)) - Piecewise((1, Eq(d, 3)), (0, True)))*Piecewise((1, Eq(f, 3)), (0, True)), (-Piecewise((1, Eq(d, 1)), (0, True)) - Piecewise((1, Eq(d, 3)), (0, True)))*Piecewise((1, Eq(f, 3)), (0, True)), (-Piecewise((1, Eq(d, 1)), (0, True)) + Piecewise((1, Eq(d, 3)), (0, True)))*Piecewise((1, Eq(f, 3)), (0, True)), (Piecewise((1, Eq(d, 1)), (0, True)) - Piecewise((1, Eq(d, 3)), (0, True)))*Piecewise((1, Eq(f, 3)), (0, True)), (-Piecewise((1, Eq(d, 1)), (0, True)) + Piecewise((1, Eq(d, 2)), (0, True)) - Piecewise((1, Eq(d, 3)), (0, True)))*Piecewise((1, Eq(f, 1)), (0, True)), (-Piecewise((1, Eq(d, 1)), (0, True)) - Piecewise((1, Eq(d, 2)), (0, True)) + Piecewise((1, Eq(d, 3)), (0, True)))*Piecewise((1, Eq(f, 1)), (0, True)), (Piecewise((1, Eq(d, 1)), (0, True)) - Piecewise((1, Eq(d, 2)), (0, True)) + Piecewise((1, Eq(d, 3)), (0, True)))*Piecewise((1, Eq(f, 1)), (0, True)), (Piecewise((1, Eq(d, 1)), (0, True)) + Piecewise((1, Eq(d, 2)), (0, True)) - Piecewise((1, Eq(d, 3)), (0, True)))*Piecewise((1, Eq(f, 1)), (0, True)), -Piecewise((1, Eq(d, 1)), (0, True))*Piecewise((1, Eq(f, 1)), (0, True))]</th></tr><tr> <th bgcolor=\"#FFDD33\" width=\"30%\" style=\"text-align: left;\"> Avoiding sure loss? </th><td bgcolor=\"#f6f6f6\" style=\"text-align: left;\">  to be verified </th></tr></table>"
      ],
      "text/plain": [
       "<PyRational.models.ADG.ADG at 0x7f9c18a5ca90>"
      ]
     },
     "execution_count": 9,
     "metadata": {},
     "output_type": "execute_result"
    }
   ],
   "source": [
    "model.add_gambleList(cg)\n",
    "model"
   ]
  },
  {
   "cell_type": "markdown",
   "metadata": {},
   "source": [
    "Note that $G$ is a list that includes all Alice's desirable gambles. We now `build` the belief model."
   ]
  },
  {
   "cell_type": "code",
   "execution_count": 10,
   "metadata": {},
   "outputs": [
    {
     "data": {
      "text/html": [
       "<h4>ADG model</h4><table width=\"100%\" border=\"3\"  ><tr> <th bgcolor=\"#FFCC33\" width=\"30%\" style=\"text-align: left;\"> List of Symbols </th><td bgcolor=\"#f1f1f1\" style=\"text-align: left;\">[d, f]</th></tr><tr> <th bgcolor=\"#FFDD33\" width=\"30%\" style=\"text-align: left;\"> Domain </th><td bgcolor=\"#f6f6f6\" style=\"text-align: left;\">&Omega;={1, 2, 3} x {1, 2, 3}</th></tr><tr> <th bgcolor=\"#FFCC33\" width=\"30%\" style=\"text-align: left;\"> List of desirable gambles </th><td bgcolor=\"#f1f1f1\" style=\"text-align: left;\">G=posi(&Lscr;(&Omega;)<sup>+</sup>      &cup;    [-Piecewise((1, Eq(f, 1)), (0, True)) - Piecewise((1, Eq(f, 2)), (0, True)) + 2*Piecewise((1, Eq(f, 3)), (0, True)), -Piecewise((1, Eq(f, 1)), (0, True)) + 2*Piecewise((1, Eq(f, 2)), (0, True)) - Piecewise((1, Eq(f, 3)), (0, True)), 2*Piecewise((1, Eq(f, 1)), (0, True)) - Piecewise((1, Eq(f, 2)), (0, True)) - Piecewise((1, Eq(f, 3)), (0, True)), (-Piecewise((1, Eq(d, 1)), (0, True)) - Piecewise((1, Eq(d, 2)), (0, True)) + Piecewise((1, Eq(d, 3)), (0, True)))*Piecewise((1, Eq(f, 2)), (0, True)), (-Piecewise((1, Eq(d, 1)), (0, True)) + Piecewise((1, Eq(d, 2)), (0, True)) + Piecewise((1, Eq(d, 3)), (0, True)))*Piecewise((1, Eq(f, 2)), (0, True)), (Piecewise((1, Eq(d, 1)), (0, True)) - Piecewise((1, Eq(d, 2)), (0, True)) + Piecewise((1, Eq(d, 3)), (0, True)))*Piecewise((1, Eq(f, 2)), (0, True)), (-Piecewise((1, Eq(d, 1)), (0, True)) - Piecewise((1, Eq(d, 2)), (0, True)))*Piecewise((1, Eq(f, 2)), (0, True)), (-Piecewise((1, Eq(d, 1)), (0, True)) + Piecewise((1, Eq(d, 2)), (0, True)))*Piecewise((1, Eq(f, 2)), (0, True)), (Piecewise((1, Eq(d, 1)), (0, True)) - Piecewise((1, Eq(d, 2)), (0, True)))*Piecewise((1, Eq(f, 2)), (0, True)), (-Piecewise((1, Eq(d, 1)), (0, True)) + Piecewise((1, Eq(d, 2)), (0, True)) - Piecewise((1, Eq(d, 3)), (0, True)))*Piecewise((1, Eq(f, 3)), (0, True)), (-Piecewise((1, Eq(d, 1)), (0, True)) + Piecewise((1, Eq(d, 2)), (0, True)) + Piecewise((1, Eq(d, 3)), (0, True)))*Piecewise((1, Eq(f, 3)), (0, True)), (Piecewise((1, Eq(d, 1)), (0, True)) + Piecewise((1, Eq(d, 2)), (0, True)) - Piecewise((1, Eq(d, 3)), (0, True)))*Piecewise((1, Eq(f, 3)), (0, True)), (-Piecewise((1, Eq(d, 1)), (0, True)) - Piecewise((1, Eq(d, 3)), (0, True)))*Piecewise((1, Eq(f, 3)), (0, True)), (-Piecewise((1, Eq(d, 1)), (0, True)) + Piecewise((1, Eq(d, 3)), (0, True)))*Piecewise((1, Eq(f, 3)), (0, True)), (Piecewise((1, Eq(d, 1)), (0, True)) - Piecewise((1, Eq(d, 3)), (0, True)))*Piecewise((1, Eq(f, 3)), (0, True)), (-Piecewise((1, Eq(d, 1)), (0, True)) + Piecewise((1, Eq(d, 2)), (0, True)) - Piecewise((1, Eq(d, 3)), (0, True)))*Piecewise((1, Eq(f, 1)), (0, True)), (-Piecewise((1, Eq(d, 1)), (0, True)) - Piecewise((1, Eq(d, 2)), (0, True)) + Piecewise((1, Eq(d, 3)), (0, True)))*Piecewise((1, Eq(f, 1)), (0, True)), (Piecewise((1, Eq(d, 1)), (0, True)) - Piecewise((1, Eq(d, 2)), (0, True)) + Piecewise((1, Eq(d, 3)), (0, True)))*Piecewise((1, Eq(f, 1)), (0, True)), (Piecewise((1, Eq(d, 1)), (0, True)) + Piecewise((1, Eq(d, 2)), (0, True)) - Piecewise((1, Eq(d, 3)), (0, True)))*Piecewise((1, Eq(f, 1)), (0, True)), -Piecewise((1, Eq(d, 1)), (0, True))*Piecewise((1, Eq(f, 1)), (0, True))])</th></tr><tr> <th bgcolor=\"#FFDD33\" width=\"30%\" style=\"text-align: left;\"> Avoiding sure loss? </th><td bgcolor=\"#f6f6f6\" style=\"text-align: left;\">  to be verified </th></tr></table>"
      ],
      "text/plain": [
       "<PyRational.models.ADG.ADG at 0x7f9c18a5ca90>"
      ]
     },
     "execution_count": 10,
     "metadata": {},
     "output_type": "execute_result"
    }
   ],
   "source": [
    "model.buildModel()\n",
    "model"
   ]
  },
  {
   "cell_type": "code",
   "execution_count": 11,
   "metadata": {},
   "outputs": [
    {
     "name": "stdout",
     "output_type": "stream",
     "text": [
      "Belief Model avoids sure  loss\n"
     ]
    },
    {
     "data": {
      "text/html": [
       "<h4>ADG model</h4><table width=\"100%\" border=\"3\"  ><tr> <th bgcolor=\"#FFCC33\" width=\"30%\" style=\"text-align: left;\"> List of Symbols </th><td bgcolor=\"#f1f1f1\" style=\"text-align: left;\">[d, f]</th></tr><tr> <th bgcolor=\"#FFDD33\" width=\"30%\" style=\"text-align: left;\"> Domain </th><td bgcolor=\"#f6f6f6\" style=\"text-align: left;\">&Omega;={1, 2, 3} x {1, 2, 3}</th></tr><tr> <th bgcolor=\"#FFCC33\" width=\"30%\" style=\"text-align: left;\"> List of desirable gambles </th><td bgcolor=\"#f1f1f1\" style=\"text-align: left;\">G=posi(&Lscr;(&Omega;)<sup>+</sup>      &cup;    [-Piecewise((1, Eq(f, 1)), (0, True)) - Piecewise((1, Eq(f, 2)), (0, True)) + 2*Piecewise((1, Eq(f, 3)), (0, True)), -Piecewise((1, Eq(f, 1)), (0, True)) + 2*Piecewise((1, Eq(f, 2)), (0, True)) - Piecewise((1, Eq(f, 3)), (0, True)), 2*Piecewise((1, Eq(f, 1)), (0, True)) - Piecewise((1, Eq(f, 2)), (0, True)) - Piecewise((1, Eq(f, 3)), (0, True)), (-Piecewise((1, Eq(d, 1)), (0, True)) - Piecewise((1, Eq(d, 2)), (0, True)) + Piecewise((1, Eq(d, 3)), (0, True)))*Piecewise((1, Eq(f, 2)), (0, True)), (-Piecewise((1, Eq(d, 1)), (0, True)) + Piecewise((1, Eq(d, 2)), (0, True)) + Piecewise((1, Eq(d, 3)), (0, True)))*Piecewise((1, Eq(f, 2)), (0, True)), (Piecewise((1, Eq(d, 1)), (0, True)) - Piecewise((1, Eq(d, 2)), (0, True)) + Piecewise((1, Eq(d, 3)), (0, True)))*Piecewise((1, Eq(f, 2)), (0, True)), (-Piecewise((1, Eq(d, 1)), (0, True)) - Piecewise((1, Eq(d, 2)), (0, True)))*Piecewise((1, Eq(f, 2)), (0, True)), (-Piecewise((1, Eq(d, 1)), (0, True)) + Piecewise((1, Eq(d, 2)), (0, True)))*Piecewise((1, Eq(f, 2)), (0, True)), (Piecewise((1, Eq(d, 1)), (0, True)) - Piecewise((1, Eq(d, 2)), (0, True)))*Piecewise((1, Eq(f, 2)), (0, True)), (-Piecewise((1, Eq(d, 1)), (0, True)) + Piecewise((1, Eq(d, 2)), (0, True)) - Piecewise((1, Eq(d, 3)), (0, True)))*Piecewise((1, Eq(f, 3)), (0, True)), (-Piecewise((1, Eq(d, 1)), (0, True)) + Piecewise((1, Eq(d, 2)), (0, True)) + Piecewise((1, Eq(d, 3)), (0, True)))*Piecewise((1, Eq(f, 3)), (0, True)), (Piecewise((1, Eq(d, 1)), (0, True)) + Piecewise((1, Eq(d, 2)), (0, True)) - Piecewise((1, Eq(d, 3)), (0, True)))*Piecewise((1, Eq(f, 3)), (0, True)), (-Piecewise((1, Eq(d, 1)), (0, True)) - Piecewise((1, Eq(d, 3)), (0, True)))*Piecewise((1, Eq(f, 3)), (0, True)), (-Piecewise((1, Eq(d, 1)), (0, True)) + Piecewise((1, Eq(d, 3)), (0, True)))*Piecewise((1, Eq(f, 3)), (0, True)), (Piecewise((1, Eq(d, 1)), (0, True)) - Piecewise((1, Eq(d, 3)), (0, True)))*Piecewise((1, Eq(f, 3)), (0, True)), (-Piecewise((1, Eq(d, 1)), (0, True)) + Piecewise((1, Eq(d, 2)), (0, True)) - Piecewise((1, Eq(d, 3)), (0, True)))*Piecewise((1, Eq(f, 1)), (0, True)), (-Piecewise((1, Eq(d, 1)), (0, True)) - Piecewise((1, Eq(d, 2)), (0, True)) + Piecewise((1, Eq(d, 3)), (0, True)))*Piecewise((1, Eq(f, 1)), (0, True)), (Piecewise((1, Eq(d, 1)), (0, True)) - Piecewise((1, Eq(d, 2)), (0, True)) + Piecewise((1, Eq(d, 3)), (0, True)))*Piecewise((1, Eq(f, 1)), (0, True)), (Piecewise((1, Eq(d, 1)), (0, True)) + Piecewise((1, Eq(d, 2)), (0, True)) - Piecewise((1, Eq(d, 3)), (0, True)))*Piecewise((1, Eq(f, 1)), (0, True)), -Piecewise((1, Eq(d, 1)), (0, True))*Piecewise((1, Eq(f, 1)), (0, True))])</th></tr><tr> <th bgcolor=\"#FFDD33\" width=\"30%\" style=\"text-align: left;\"> Avoiding sure loss? </th><td bgcolor=\"#f6f6f6\" style=\"text-align: left;\"> Yes </th></tr></table>"
      ],
      "text/plain": [
       "<PyRational.models.ADG.ADG at 0x7f9c18a5ca90>"
      ]
     },
     "execution_count": 11,
     "metadata": {},
     "output_type": "execute_result"
    }
   ],
   "source": [
    "optimoptions={ 'method_LISP': 'Cutting_plane', \n",
    "               'SolverLP':'linprog', \n",
    "               'LP_acc_constraints':1e-300,\n",
    "               'SolverNLP':'differential_evolution',\n",
    "               'NLP_alpha_cut':-0.009,\n",
    "               'num_support_points': 10,\n",
    "               'verbose':False}\n",
    "\n",
    "model.check_avs(options=optimoptions)\n",
    "model"
   ]
  },
  {
   "cell_type": "markdown",
   "metadata": {},
   "source": [
    "So Alice is **rational** or, equivalently, her set of desirable gambles is coherent."
   ]
  },
  {
   "cell_type": "code",
   "execution_count": 12,
   "metadata": {},
   "outputs": [
    {
     "name": "stdout",
     "output_type": "stream",
     "text": [
      "0.3333333329658672 0.3333333337595623\n"
     ]
    }
   ],
   "source": [
    "f= Piecewise((1.0,Eq(ferrari,2)),(0.0,True))\n",
    "f_range=(None,None)\n",
    "lp=model.lower_prevision(f,f_range,options=optimoptions)\n",
    "up=model.upper_prevision(f,f_range,options=optimoptions)\n",
    "print(lp,up)"
   ]
  },
  {
   "cell_type": "markdown",
   "metadata": {},
   "source": [
    "## Updating: inference\n",
    "\n",
    "Alice may want to evaluate how her inferences would change if she knew that the result of the coin toss will be Head.\n",
    "\n",
    "This operation is called `updating` in ADG and is formally equivalent to probabilistic conditioning. It is performed by firstly defining an indicator on the event of interest:"
   ]
  },
  {
   "cell_type": "code",
   "execution_count": 13,
   "metadata": {},
   "outputs": [],
   "source": [
    "h = Piecewise((1.0,Eq(door,3)),(0.0,True))"
   ]
  },
  {
   "cell_type": "markdown",
   "metadata": {},
   "source": [
    "and then re-computing `lower_prevision` and `upper_prevision` conditionally on this event."
   ]
  },
  {
   "cell_type": "code",
   "execution_count": 14,
   "metadata": {},
   "outputs": [
    {
     "name": "stdout",
     "output_type": "stream",
     "text": [
      "0.33333333198880777\n"
     ]
    }
   ],
   "source": [
    "f= Piecewise((1.0,Eq(ferrari,2)),(0.0,True))-Piecewise((1.0,Eq(ferrari,1)),(0.0,True))\n",
    "f_range=(None,None)\n",
    "lp=model.lower_prevision(f,f_range,h=h,options=optimoptions)\n",
    "print(lp)"
   ]
  },
  {
   "cell_type": "markdown",
   "metadata": {},
   "source": [
    "Note that, since she knows that the result is Heads, then she is sure that the payoff for $f$ is one."
   ]
  },
  {
   "cell_type": "markdown",
   "metadata": {},
   "source": [
    "## Updating: model\n",
    "\n",
    "Alice may also want to update her whole belief model conditionally on $h$. This can be done as follows:"
   ]
  },
  {
   "cell_type": "code",
   "execution_count": 15,
   "metadata": {},
   "outputs": [
    {
     "data": {
      "text/plain": [
       "[-Piecewise((1, Eq(f, 1)), (0, True)) - Piecewise((1, Eq(f, 2)), (0, True)) + 2*Piecewise((1, Eq(f, 3)), (0, True)) + 0.999999989552466,\n",
       " -Piecewise((1, Eq(f, 1)), (0, True)) + 2*Piecewise((1, Eq(f, 2)), (0, True)) - Piecewise((1, Eq(f, 3)), (0, True)) - 0.999999999995741,\n",
       " 2*Piecewise((1, Eq(f, 1)), (0, True)) - Piecewise((1, Eq(f, 2)), (0, True)) - Piecewise((1, Eq(f, 3)), (0, True)) + 2.67085509264575e-9,\n",
       " (-Piecewise((1, Eq(d, 1)), (0, True)) - Piecewise((1, Eq(d, 2)), (0, True)) + Piecewise((1, Eq(d, 3)), (0, True)))*Piecewise((1, Eq(f, 2)), (0, True)) - 0.666666666460884,\n",
       " (-Piecewise((1, Eq(d, 1)), (0, True)) + Piecewise((1, Eq(d, 2)), (0, True)) + Piecewise((1, Eq(d, 3)), (0, True)))*Piecewise((1, Eq(f, 2)), (0, True)) - 0.666666666460884,\n",
       " (Piecewise((1, Eq(d, 1)), (0, True)) - Piecewise((1, Eq(d, 2)), (0, True)) + Piecewise((1, Eq(d, 3)), (0, True)))*Piecewise((1, Eq(f, 2)), (0, True)) - 0.666666666460884,\n",
       " (-Piecewise((1, Eq(d, 1)), (0, True)) - Piecewise((1, Eq(d, 2)), (0, True)))*Piecewise((1, Eq(f, 2)), (0, True)) + 2.14561701739058e-12,\n",
       " (-Piecewise((1, Eq(d, 1)), (0, True)) + Piecewise((1, Eq(d, 2)), (0, True)))*Piecewise((1, Eq(f, 2)), (0, True)) + 2.14561701739058e-12,\n",
       " (Piecewise((1, Eq(d, 1)), (0, True)) - Piecewise((1, Eq(d, 2)), (0, True)))*Piecewise((1, Eq(f, 2)), (0, True)) + 2.14561701739058e-12,\n",
       " (-Piecewise((1, Eq(d, 1)), (0, True)) + Piecewise((1, Eq(d, 2)), (0, True)) - Piecewise((1, Eq(d, 3)), (0, True)))*Piecewise((1, Eq(f, 3)), (0, True)) + 1.96699323495864e-11,\n",
       " (-Piecewise((1, Eq(d, 1)), (0, True)) + Piecewise((1, Eq(d, 2)), (0, True)) + Piecewise((1, Eq(d, 3)), (0, True)))*Piecewise((1, Eq(f, 3)), (0, True)) - 1.1303735725221e-11,\n",
       " (Piecewise((1, Eq(d, 1)), (0, True)) + Piecewise((1, Eq(d, 2)), (0, True)) - Piecewise((1, Eq(d, 3)), (0, True)))*Piecewise((1, Eq(f, 3)), (0, True)) + 1.96699323495864e-11,\n",
       " (-Piecewise((1, Eq(d, 1)), (0, True)) - Piecewise((1, Eq(d, 3)), (0, True)))*Piecewise((1, Eq(f, 3)), (0, True)) + 1.96699323495864e-11,\n",
       " (-Piecewise((1, Eq(d, 1)), (0, True)) + Piecewise((1, Eq(d, 3)), (0, True)))*Piecewise((1, Eq(f, 3)), (0, True)) - 1.1303735725221e-11,\n",
       " (Piecewise((1, Eq(d, 1)), (0, True)) - Piecewise((1, Eq(d, 3)), (0, True)))*Piecewise((1, Eq(f, 3)), (0, True)) + 1.96699323495864e-11,\n",
       " (-Piecewise((1, Eq(d, 1)), (0, True)) + Piecewise((1, Eq(d, 2)), (0, True)) - Piecewise((1, Eq(d, 3)), (0, True)))*Piecewise((1, Eq(f, 1)), (0, True)) + 0.333333333340092,\n",
       " (-Piecewise((1, Eq(d, 1)), (0, True)) - Piecewise((1, Eq(d, 2)), (0, True)) + Piecewise((1, Eq(d, 3)), (0, True)))*Piecewise((1, Eq(f, 1)), (0, True)) - 0.333333333306355,\n",
       " (Piecewise((1, Eq(d, 1)), (0, True)) - Piecewise((1, Eq(d, 2)), (0, True)) + Piecewise((1, Eq(d, 3)), (0, True)))*Piecewise((1, Eq(f, 1)), (0, True)) - 0.333333333306355,\n",
       " (Piecewise((1, Eq(d, 1)), (0, True)) + Piecewise((1, Eq(d, 2)), (0, True)) - Piecewise((1, Eq(d, 3)), (0, True)))*Piecewise((1, Eq(f, 1)), (0, True)) + 0.333333333340092,\n",
       " -Piecewise((1, Eq(d, 1)), (0, True))*Piecewise((1, Eq(f, 1)), (0, True)) + 2.14561701739058e-12]"
      ]
     },
     "execution_count": 15,
     "metadata": {},
     "output_type": "execute_result"
    }
   ],
   "source": [
    "NewG = model.updating(h,options=optimoptions)\n",
    "NewG"
   ]
  },
  {
   "cell_type": "markdown",
   "metadata": {},
   "source": [
    "It returns the updated set of desirable gambles. We can use it to build a new belief model."
   ]
  },
  {
   "cell_type": "code",
   "execution_count": 16,
   "metadata": {},
   "outputs": [
    {
     "name": "stderr",
     "output_type": "stream",
     "text": [
      "/home/benavoli/anaconda3/lib/python3.6/site-packages/scipy/optimize/_linprog_ip.py:1262: OptimizeWarning: Solving system with option 'sym_pos':True failed. It is normal for this to happen occasionally, especially as the solution is approached. However, if you see this frequently, consider setting option 'sym_pos' to False.\n",
      "  OptimizeWarning)\n",
      "/home/benavoli/anaconda3/lib/python3.6/site-packages/scipy/optimize/_linprog_ip.py:1274: OptimizeWarning: Solving system with option 'sym_pos':False failed. This may happen occasionally, especially as the solution is approached. However, if you see this frequently, your problem may be numerically challenging. If you cannot improve the formulation, consider setting 'lstsq' to True. Consider also setting `presolve` to True, if it is not already.\n",
      "  OptimizeWarning)\n"
     ]
    },
    {
     "name": "stdout",
     "output_type": "stream",
     "text": [
      "Belief Model incurs in a sure  loss\n"
     ]
    },
    {
     "data": {
      "text/html": [
       "<h4>ADG model</h4><table width=\"100%\" border=\"3\"  ><tr> <th bgcolor=\"#FFCC33\" width=\"30%\" style=\"text-align: left;\"> List of Symbols </th><td bgcolor=\"#f1f1f1\" style=\"text-align: left;\">[d, f]</th></tr><tr> <th bgcolor=\"#FFDD33\" width=\"30%\" style=\"text-align: left;\"> Domain </th><td bgcolor=\"#f6f6f6\" style=\"text-align: left;\">&Omega;={1, 2, 3} x {1, 2, 3}</th></tr><tr> <th bgcolor=\"#FFCC33\" width=\"30%\" style=\"text-align: left;\"> List of desirable gambles </th><td bgcolor=\"#f1f1f1\" style=\"text-align: left;\">G=posi(&Lscr;(&Omega;)<sup>+</sup>      &cup;    [-Piecewise((1, Eq(f, 1)), (0, True)) - Piecewise((1, Eq(f, 2)), (0, True)) + 2*Piecewise((1, Eq(f, 3)), (0, True)) + 0.999999989552466, -Piecewise((1, Eq(f, 1)), (0, True)) + 2*Piecewise((1, Eq(f, 2)), (0, True)) - Piecewise((1, Eq(f, 3)), (0, True)) - 0.999999999995741, 2*Piecewise((1, Eq(f, 1)), (0, True)) - Piecewise((1, Eq(f, 2)), (0, True)) - Piecewise((1, Eq(f, 3)), (0, True)) + 2.67085509264575e-9, (-Piecewise((1, Eq(d, 1)), (0, True)) - Piecewise((1, Eq(d, 2)), (0, True)) + Piecewise((1, Eq(d, 3)), (0, True)))*Piecewise((1, Eq(f, 2)), (0, True)) - 0.666666666460884, (-Piecewise((1, Eq(d, 1)), (0, True)) + Piecewise((1, Eq(d, 2)), (0, True)) + Piecewise((1, Eq(d, 3)), (0, True)))*Piecewise((1, Eq(f, 2)), (0, True)) - 0.666666666460884, (Piecewise((1, Eq(d, 1)), (0, True)) - Piecewise((1, Eq(d, 2)), (0, True)) + Piecewise((1, Eq(d, 3)), (0, True)))*Piecewise((1, Eq(f, 2)), (0, True)) - 0.666666666460884, (-Piecewise((1, Eq(d, 1)), (0, True)) - Piecewise((1, Eq(d, 2)), (0, True)))*Piecewise((1, Eq(f, 2)), (0, True)) + 2.14561701739058e-12, (-Piecewise((1, Eq(d, 1)), (0, True)) + Piecewise((1, Eq(d, 2)), (0, True)))*Piecewise((1, Eq(f, 2)), (0, True)) + 2.14561701739058e-12, (Piecewise((1, Eq(d, 1)), (0, True)) - Piecewise((1, Eq(d, 2)), (0, True)))*Piecewise((1, Eq(f, 2)), (0, True)) + 2.14561701739058e-12, (-Piecewise((1, Eq(d, 1)), (0, True)) + Piecewise((1, Eq(d, 2)), (0, True)) - Piecewise((1, Eq(d, 3)), (0, True)))*Piecewise((1, Eq(f, 3)), (0, True)) + 1.96699323495864e-11, (-Piecewise((1, Eq(d, 1)), (0, True)) + Piecewise((1, Eq(d, 2)), (0, True)) + Piecewise((1, Eq(d, 3)), (0, True)))*Piecewise((1, Eq(f, 3)), (0, True)) - 1.1303735725221e-11, (Piecewise((1, Eq(d, 1)), (0, True)) + Piecewise((1, Eq(d, 2)), (0, True)) - Piecewise((1, Eq(d, 3)), (0, True)))*Piecewise((1, Eq(f, 3)), (0, True)) + 1.96699323495864e-11, (-Piecewise((1, Eq(d, 1)), (0, True)) - Piecewise((1, Eq(d, 3)), (0, True)))*Piecewise((1, Eq(f, 3)), (0, True)) + 1.96699323495864e-11, (-Piecewise((1, Eq(d, 1)), (0, True)) + Piecewise((1, Eq(d, 3)), (0, True)))*Piecewise((1, Eq(f, 3)), (0, True)) - 1.1303735725221e-11, (Piecewise((1, Eq(d, 1)), (0, True)) - Piecewise((1, Eq(d, 3)), (0, True)))*Piecewise((1, Eq(f, 3)), (0, True)) + 1.96699323495864e-11, (-Piecewise((1, Eq(d, 1)), (0, True)) + Piecewise((1, Eq(d, 2)), (0, True)) - Piecewise((1, Eq(d, 3)), (0, True)))*Piecewise((1, Eq(f, 1)), (0, True)) + 0.333333333340092, (-Piecewise((1, Eq(d, 1)), (0, True)) - Piecewise((1, Eq(d, 2)), (0, True)) + Piecewise((1, Eq(d, 3)), (0, True)))*Piecewise((1, Eq(f, 1)), (0, True)) - 0.333333333306355, (Piecewise((1, Eq(d, 1)), (0, True)) - Piecewise((1, Eq(d, 2)), (0, True)) + Piecewise((1, Eq(d, 3)), (0, True)))*Piecewise((1, Eq(f, 1)), (0, True)) - 0.333333333306355, (Piecewise((1, Eq(d, 1)), (0, True)) + Piecewise((1, Eq(d, 2)), (0, True)) - Piecewise((1, Eq(d, 3)), (0, True)))*Piecewise((1, Eq(f, 1)), (0, True)) + 0.333333333340092, -Piecewise((1, Eq(d, 1)), (0, True))*Piecewise((1, Eq(f, 1)), (0, True)) + 2.14561701739058e-12])</th></tr><tr> <th bgcolor=\"#FFDD33\" width=\"30%\" style=\"text-align: left;\"> Avoiding sure loss? </th><td bgcolor=\"#f6f6f6\" style=\"text-align: left;\"> No </th></tr><tr> <th bgcolor=\"#FFDD33\" width=\"30%\" style=\"text-align: left;\"> Sure loss lambda: </th><td bgcolor=\"#f6f6f6\" style=\"text-align: left;\">[2.55022233e+294 2.55022232e+294 2.55022232e+294 1.12578238e+280\n",
       " 1.83988584e+280 1.84084820e+280 1.63578708e+280 3.75139723e+280\n",
       " 3.75540012e+280 1.91667917e+280 1.68358803e+280 2.16504262e+280\n",
       " 3.83960839e+280 3.00591832e+280 4.98523942e+280 1.05629214e+281\n",
       " 4.77695997e+280 2.26652052e+280 3.06243497e+280 6.64487608e+280]</th></tr></table>"
      ],
      "text/plain": [
       "<PyRational.models.ADG.ADG at 0x7f9c18abbf98>"
      ]
     },
     "execution_count": 16,
     "metadata": {},
     "output_type": "execute_result"
    }
   ],
   "source": [
    "model1 = ADG(ListSymbols,ListDomains)\n",
    "model1.add_gambleList(NewG)\n",
    "model1.buildModel()\n",
    "model1.check_avs()\n",
    "model1"
   ]
  },
  {
   "cell_type": "code",
   "execution_count": 17,
   "metadata": {},
   "outputs": [
    {
     "data": {
      "text/plain": [
       "0.3333333339002641"
      ]
     },
     "execution_count": 17,
     "metadata": {},
     "output_type": "execute_result"
    }
   ],
   "source": [
    "model1.lower_prevision(f,f_range,options=optimoptions)"
   ]
  },
  {
   "cell_type": "markdown",
   "metadata": {},
   "source": [
    "This is inference is equivalent to `model1.lower_prevision(f,f_range,h=h,options=optimoptions)`"
   ]
  }
 ],
 "metadata": {
  "kernelspec": {
   "display_name": "Python 3",
   "language": "python",
   "name": "python3"
  },
  "language_info": {
   "codemirror_mode": {
    "name": "ipython",
    "version": 3
   },
   "file_extension": ".py",
   "mimetype": "text/x-python",
   "name": "python",
   "nbconvert_exporter": "python",
   "pygments_lexer": "ipython3",
   "version": "3.6.4"
  }
 },
 "nbformat": 4,
 "nbformat_minor": 2
}
