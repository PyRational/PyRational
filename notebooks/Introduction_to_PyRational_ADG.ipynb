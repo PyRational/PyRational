{
 "cells": [
  {
   "cell_type": "markdown",
   "metadata": {},
   "source": [
    "# Introduction to PyRational ADG models\n",
    "\n",
    "**author:Alessio Benavoli**\n",
    "<a href=\"http://www.alessiobenavoli.com\"> alessiobenavoli.com </a>"
   ]
  },
  {
   "cell_type": "markdown",
   "metadata": {},
   "source": [
    "We will see in this tutorial the basics for building a <span style=\"color:gray\">Py</span>Rational model.\n",
    "\n",
    "We will consider  **ADG: Almost Desirable Gambles** belief model. \n",
    "\n",
    "To understand this model, we consider a coin tossing *experiment* whose outcome  $\\omega$ belongs to the  space of possibilities $\\Omega$ (Head or Tail). We can model agent's beliefs (we call our agent Alice) about $\\omega$ by asking her whether she accepts engaging in certain **risky transactions**, called **gambles**, whose outcome depends on the actual\n",
    "outcome of the experiment. \n",
    "\n",
    "Mathematically, a gamble is a bounded real-valued function on $\\Omega$, $g:\\Omega \n",
    "\\rightarrow \\mathbb{R}$. If Alice accepts a gamble $g$, this means that she commits herself to \n",
    "receive $g(\\omega)$ euros if the outcome of the experiment eventually happens \n",
    "to be the event $\\omega \\in \\Omega$. Since $g(\\omega)$ can be negative, Alice can also lose euros. Therefore Alice's acceptability of a gamble depends on her knowledge about the experiment.\n",
    "\n",
    "The  set of gambles that Alice accepts is called her set of *desirable gambles*. \n",
    "One such set is said to be **coherent** when it satisfies the following criteria:\n",
    "\n",
    "* A.1: Any gamble $g$ such that $g(\\omega)\\geq0$ for each $\\omega \\in \\Omega$ must be desirable for Alice, given that it may increase Alice's capital without ever decreasing it  (**accepting partial gain**). \n",
    "* A.2: Any gamble $g$ such that $\\max g<0$  must not be desirable for Alice, given \n",
    "that it may only decrease Alice's capital without ever increasing it  (**avoiding sure loss**). \n",
    "* A.3: If Alice finds $g$  desirable,  then also $\\lambda g$ must be desirable for her for any $0<\\lambda \\in \\mathbb{R}$ (**positive homogeneity**).\n",
    "* A.4: If Alice finds $g_1$ and $g_2$ desirable, then she also must accept $g_1+g_2$ (**additivity**). \n",
    "* A.5: If Alice finds $g+\\delta$  desirable for every $\\delta\\geq0$, then also $g$ should be desirable to her (**closure**). \n",
    "\n",
    "If the set of desirable gamble $G$ satisfies these property we say that it is *coherent*, or, equivalently, that **Alice is rational**. \n",
    "\n",
    "Note how the first four axioms express some truly minimal requirements: the first means that Alice likes to increase her wealth; the second that she does not like to decrease it; the third and fourth together simply rephrase the assumption that Alice's utility scale is linear. The last axiom is a continuity property. \n",
    "\n",
    "We will now build our first ADG model. We will first import the libraries we will need:"
   ]
  },
  {
   "cell_type": "code",
   "execution_count": 1,
   "metadata": {},
   "outputs": [],
   "source": [
    "%load_ext autoreload\n",
    "%autoreload 2\n",
    "from __future__ import absolute_import \n",
    "from PyRational.models.ADG import  ADG\n",
    "from PyRational.special.gambles import indicator\n",
    "import numpy as np\n",
    "from sympy import symbols,  FiniteSet, Piecewise, Eq"
   ]
  },
  {
   "cell_type": "markdown",
   "metadata": {},
   "source": [
    "*PyRational* requires numerical input variables. We therefore encode categorical symbols (Head and Tail) into integer data (1, 0). "
   ]
  },
  {
   "cell_type": "markdown",
   "metadata": {},
   "source": [
    "*PyRational* uses *Sympy* for symbolic mathematics. We need to define in *Sympy*  a `symbol` associated to the coin toss outcome and its relative domain {0,1} (we use Sympy `FiniteSet` for the latter)."
   ]
  },
  {
   "cell_type": "code",
   "execution_count": 2,
   "metadata": {},
   "outputs": [],
   "source": [
    "x  = symbols('x');\n",
    "domain_x=FiniteSet(0,1)"
   ]
  },
  {
   "cell_type": "markdown",
   "metadata": {},
   "source": [
    "We are now ready to build our first *PyRational* model: **ADG**."
   ]
  },
  {
   "cell_type": "code",
   "execution_count": 38,
   "metadata": {
    "scrolled": true
   },
   "outputs": [
    {
     "data": {
      "text/html": [
       "<h4>ADG model</h4><table width=\"100%\" border=\"3\"  ><tr> <th bgcolor=\"#FFCC33\" width=\"30%\" style=\"text-align: left;\"> List of Symbols </th><td bgcolor=\"#f1f1f1\" style=\"text-align: left;\">[x]</th></tr><tr> <th bgcolor=\"#FFDD33\" width=\"30%\" style=\"text-align: left;\"> Domain </th><td bgcolor=\"#f6f6f6\" style=\"text-align: left;\">&Omega;={0, 1}</th></tr><tr> <th bgcolor=\"#FFCC33\" width=\"30%\" style=\"text-align: left;\"> List of desirable gambles </th><td bgcolor=\"#f1f1f1\" style=\"text-align: left;\">G=[]</th></tr><tr> <th bgcolor=\"#FFDD33\" width=\"30%\" style=\"text-align: left;\"> Avoiding sure loss? </th><td bgcolor=\"#f6f6f6\" style=\"text-align: left;\">  to be verified </th></tr></table>"
      ],
      "text/plain": [
       "<PyRational.models.ADG.ADG at 0x7f75c33ec470>"
      ]
     },
     "execution_count": 38,
     "metadata": {},
     "output_type": "execute_result"
    }
   ],
   "source": [
    "ListSymbols=[x]\n",
    "ListDomains=[domain_x]\n",
    "model = ADG(ListSymbols,ListDomains)\n",
    "model"
   ]
  },
  {
   "cell_type": "markdown",
   "metadata": {},
   "source": [
    "We will clarify later the meaning of \"avoiding sure loss\".\n",
    "The set $G$, the gambles that Alice finds desirable, is empty at the moment.\n",
    "\n",
    "What is a gamble in the coin experiment? We can model any gamble as a combination of `indicator` functions."
   ]
  },
  {
   "cell_type": "code",
   "execution_count": 39,
   "metadata": {},
   "outputs": [],
   "source": [
    "g = -0.1*indicator('Eq(x,1)') + 1*indicator('Eq(x,0)')"
   ]
  },
  {
   "cell_type": "markdown",
   "metadata": {},
   "source": [
    "In this example Alice receives 1 euro if Tails and loses -0.1 euro if Heads. Note that, in Sympy, the == must be replaced by Eq(.,.). The indicator is implemented as a `Piecewise` Sympy function:"
   ]
  },
  {
   "cell_type": "code",
   "execution_count": 40,
   "metadata": {},
   "outputs": [
    {
     "data": {
      "text/plain": [
       "Piecewise((1, Eq(x, 0)), (0, True)) - 0.1*Piecewise((1, Eq(x, 1)), (0, True))"
      ]
     },
     "execution_count": 40,
     "metadata": {},
     "output_type": "execute_result"
    }
   ],
   "source": [
    "g"
   ]
  },
  {
   "cell_type": "markdown",
   "metadata": {},
   "source": [
    "Therefore, you can write the same gamble as"
   ]
  },
  {
   "cell_type": "code",
   "execution_count": 41,
   "metadata": {},
   "outputs": [
    {
     "data": {
      "text/plain": [
       "Piecewise((1, Eq(x, 0)), (0, True)) - 0.1*Piecewise((1, Eq(x, 1)), (0, True))"
      ]
     },
     "execution_count": 41,
     "metadata": {},
     "output_type": "execute_result"
    }
   ],
   "source": [
    "1*Piecewise((1, Eq(x, 0)), (0, True)) - 0.1*Piecewise((1, Eq(x, 1)), (0, True))"
   ]
  },
  {
   "cell_type": "markdown",
   "metadata": {},
   "source": [
    "We can evaluate this gamble as follows:"
   ]
  },
  {
   "cell_type": "code",
   "execution_count": 42,
   "metadata": {},
   "outputs": [
    {
     "name": "stdout",
     "output_type": "stream",
     "text": [
      "if Tails:  1 , if Heads: -0.100000000000000\n"
     ]
    }
   ],
   "source": [
    "print('if Tails: ', g.subs(x,0),', if Heads:',g.subs(x,1))"
   ]
  },
  {
   "cell_type": "markdown",
   "metadata": {},
   "source": [
    "Which gambles does Alice find desirable?\n",
    "\n",
    "Alice is obviously willing to accept any gamble $g$ that, no matter the result of the experiment,\n",
    "may increase her wealth without ever decreasing it, that is with $g \\geq 0$.\n",
    "For instance, the following gambles:"
   ]
  },
  {
   "cell_type": "code",
   "execution_count": 43,
   "metadata": {},
   "outputs": [],
   "source": [
    "g1 = 1.0*indicator('Eq(x,1)') + 1.0*indicator('Eq(x,0)')\n",
    "g2 = 0.1*indicator('Eq(x,1)') + 1.0*indicator('Eq(x,0)')"
   ]
  },
  {
   "cell_type": "markdown",
   "metadata": {},
   "source": [
    "Similarly.  Alice does not accept  any gamble $g$ that will surely decrease her wealth, that is with  $\\max g<0$. For the other types of gambles, their desirability depends on Alice's beliefs about the coin.\n",
    "\n",
    "\n",
    "Let's assume Alice thinks that the coin is slightly biased.  So she decides to accept a gamble, only if the ratio between its positive part and negative part is greater than $1.1$:"
   ]
  },
  {
   "cell_type": "code",
   "execution_count": 36,
   "metadata": {},
   "outputs": [],
   "source": [
    "g3 =    1*indicator('Eq(x,1)') - 0.1*indicator('Eq(x,0)')\n",
    "g4 = -0.1*indicator('Eq(x,1)') +   1*indicator('Eq(x,0)')\n",
    "g5 =    2*indicator('Eq(x,1)') - 0.5*indicator('Eq(x,0)')\n",
    "g6 =  0.5*indicator('Eq(x,1)') - 0.4*indicator('Eq(x,0)')\n",
    "g7 = -0.4*indicator('Eq(x,1)') + 0.5*indicator('Eq(x,0)')\n",
    "g8 =  1.1*indicator('Eq(x,1)') -   1*indicator('Eq(x,0)')\n",
    "g9 =   -1*indicator('Eq(x,1)') + 1.1*indicator('Eq(x,0)')"
   ]
  },
  {
   "cell_type": "markdown",
   "metadata": {},
   "source": [
    "We add all these gambles to `model` as follows:"
   ]
  },
  {
   "cell_type": "code",
   "execution_count": 44,
   "metadata": {},
   "outputs": [
    {
     "data": {
      "text/html": [
       "<h4>ADG model</h4><table width=\"100%\" border=\"3\"  ><tr> <th bgcolor=\"#FFCC33\" width=\"30%\" style=\"text-align: left;\"> List of Symbols </th><td bgcolor=\"#f1f1f1\" style=\"text-align: left;\">[x]</th></tr><tr> <th bgcolor=\"#FFDD33\" width=\"30%\" style=\"text-align: left;\"> Domain </th><td bgcolor=\"#f6f6f6\" style=\"text-align: left;\">&Omega;={0, 1}</th></tr><tr> <th bgcolor=\"#FFCC33\" width=\"30%\" style=\"text-align: left;\"> List of desirable gambles </th><td bgcolor=\"#f1f1f1\" style=\"text-align: left;\">G=[1.0*Piecewise((1, Eq(x, 0)), (0, True)) + 1.0*Piecewise((1, Eq(x, 1)), (0, True)), 1.0*Piecewise((1, Eq(x, 0)), (0, True)) + 0.1*Piecewise((1, Eq(x, 1)), (0, True)), -0.1*Piecewise((1, Eq(x, 0)), (0, True)) + Piecewise((1, Eq(x, 1)), (0, True)), Piecewise((1, Eq(x, 0)), (0, True)) - 0.1*Piecewise((1, Eq(x, 1)), (0, True)), -0.5*Piecewise((1, Eq(x, 0)), (0, True)) + 2*Piecewise((1, Eq(x, 1)), (0, True)), -0.4*Piecewise((1, Eq(x, 0)), (0, True)) + 0.5*Piecewise((1, Eq(x, 1)), (0, True)), 0.5*Piecewise((1, Eq(x, 0)), (0, True)) - 0.4*Piecewise((1, Eq(x, 1)), (0, True)), -Piecewise((1, Eq(x, 0)), (0, True)) + 1.1*Piecewise((1, Eq(x, 1)), (0, True)), 1.1*Piecewise((1, Eq(x, 0)), (0, True)) - Piecewise((1, Eq(x, 1)), (0, True))]</th></tr><tr> <th bgcolor=\"#FFDD33\" width=\"30%\" style=\"text-align: left;\"> Avoiding sure loss? </th><td bgcolor=\"#f6f6f6\" style=\"text-align: left;\">  to be verified </th></tr></table>"
      ],
      "text/plain": [
       "<PyRational.models.ADG.ADG at 0x7f75c33ec470>"
      ]
     },
     "execution_count": 44,
     "metadata": {},
     "output_type": "execute_result"
    }
   ],
   "source": [
    "model.add_gambleList([g1,g2,g3,g4,g5,g6,g7,g8,g9])\n",
    "model"
   ]
  },
  {
   "cell_type": "markdown",
   "metadata": {},
   "source": [
    "Note that $G$ is a list that includes all Alice's desirable gambles. We now `build` the belief model."
   ]
  },
  {
   "cell_type": "code",
   "execution_count": 64,
   "metadata": {},
   "outputs": [
    {
     "data": {
      "text/html": [
       "<h4>ADG model</h4><table width=\"100%\" border=\"3\"  ><tr> <th bgcolor=\"#FFCC33\" width=\"30%\" style=\"text-align: left;\"> List of Symbols </th><td bgcolor=\"#f1f1f1\" style=\"text-align: left;\">[x]</th></tr><tr> <th bgcolor=\"#FFDD33\" width=\"30%\" style=\"text-align: left;\"> Domain </th><td bgcolor=\"#f6f6f6\" style=\"text-align: left;\">&Omega;={0, 1}</th></tr><tr> <th bgcolor=\"#FFCC33\" width=\"30%\" style=\"text-align: left;\"> List of desirable gambles </th><td bgcolor=\"#f1f1f1\" style=\"text-align: left;\">G=posi(&Lscr;(&Omega;)<sup>+</sup>      &cup;    [1.0*Piecewise((1, Eq(x, 0)), (0, True)) + 1.0*Piecewise((1, Eq(x, 1)), (0, True)), 1.0*Piecewise((1, Eq(x, 0)), (0, True)) + 0.1*Piecewise((1, Eq(x, 1)), (0, True)), -0.1*Piecewise((1, Eq(x, 0)), (0, True)) + Piecewise((1, Eq(x, 1)), (0, True)), Piecewise((1, Eq(x, 0)), (0, True)) - 0.1*Piecewise((1, Eq(x, 1)), (0, True)), -0.5*Piecewise((1, Eq(x, 0)), (0, True)) + 2*Piecewise((1, Eq(x, 1)), (0, True)), -0.4*Piecewise((1, Eq(x, 0)), (0, True)) + 0.5*Piecewise((1, Eq(x, 1)), (0, True)), 0.5*Piecewise((1, Eq(x, 0)), (0, True)) - 0.4*Piecewise((1, Eq(x, 1)), (0, True)), -Piecewise((1, Eq(x, 0)), (0, True)) + 1.1*Piecewise((1, Eq(x, 1)), (0, True)), 1.1*Piecewise((1, Eq(x, 0)), (0, True)) - Piecewise((1, Eq(x, 1)), (0, True))])</th></tr><tr> <th bgcolor=\"#FFDD33\" width=\"30%\" style=\"text-align: left;\"> Avoiding sure loss? </th><td bgcolor=\"#f6f6f6\" style=\"text-align: left;\"> Yes </th></tr></table>"
      ],
      "text/plain": [
       "<PyRational.models.ADG.ADG at 0x7f75c33ec470>"
      ]
     },
     "execution_count": 64,
     "metadata": {},
     "output_type": "execute_result"
    }
   ],
   "source": [
    "model.buildModel()\n",
    "model"
   ]
  },
  {
   "cell_type": "markdown",
   "metadata": {},
   "source": [
    "You can think about \"model building\" as a compiling phase for the belief model. \n",
    "\n",
    "It adds to $G$ all gambles that are implied by axioms A.1, A.3, A.4, A.5.\n",
    "\n",
    "This means that Alice doesn't need to say that $g_1,g_2$ (in the above example) are desirable, because this is implied by A.1. Similarly, she doesn't need to say that $10*g_3$ is also desirable to her, because this is implied by A.3 and so on.\n",
    "  \n",
    "\n",
    "Given that A.1, A.3, A.4, A.5 are satisfied, to check that Alice is rational, it remains to verify that A.2 is also satisfied. We use `check_avs` for that. \n",
    "Before doing that, we will set some options for the optimiser. I will explain the meaning of these options in another notebook."
   ]
  },
  {
   "cell_type": "code",
   "execution_count": 46,
   "metadata": {},
   "outputs": [
    {
     "name": "stdout",
     "output_type": "stream",
     "text": [
      "Belief Model avoids sure  loss\n"
     ]
    },
    {
     "data": {
      "text/html": [
       "<h4>ADG model</h4><table width=\"100%\" border=\"3\"  ><tr> <th bgcolor=\"#FFCC33\" width=\"30%\" style=\"text-align: left;\"> List of Symbols </th><td bgcolor=\"#f1f1f1\" style=\"text-align: left;\">[x]</th></tr><tr> <th bgcolor=\"#FFDD33\" width=\"30%\" style=\"text-align: left;\"> Domain </th><td bgcolor=\"#f6f6f6\" style=\"text-align: left;\">&Omega;={0, 1}</th></tr><tr> <th bgcolor=\"#FFCC33\" width=\"30%\" style=\"text-align: left;\"> List of desirable gambles </th><td bgcolor=\"#f1f1f1\" style=\"text-align: left;\">G=posi(&Lscr;(&Omega;)<sup>+</sup>      &cup;    [1.0*Piecewise((1, Eq(x, 0)), (0, True)) + 1.0*Piecewise((1, Eq(x, 1)), (0, True)), 1.0*Piecewise((1, Eq(x, 0)), (0, True)) + 0.1*Piecewise((1, Eq(x, 1)), (0, True)), -0.1*Piecewise((1, Eq(x, 0)), (0, True)) + Piecewise((1, Eq(x, 1)), (0, True)), Piecewise((1, Eq(x, 0)), (0, True)) - 0.1*Piecewise((1, Eq(x, 1)), (0, True)), -0.5*Piecewise((1, Eq(x, 0)), (0, True)) + 2*Piecewise((1, Eq(x, 1)), (0, True)), -0.4*Piecewise((1, Eq(x, 0)), (0, True)) + 0.5*Piecewise((1, Eq(x, 1)), (0, True)), 0.5*Piecewise((1, Eq(x, 0)), (0, True)) - 0.4*Piecewise((1, Eq(x, 1)), (0, True)), -Piecewise((1, Eq(x, 0)), (0, True)) + 1.1*Piecewise((1, Eq(x, 1)), (0, True)), 1.1*Piecewise((1, Eq(x, 0)), (0, True)) - Piecewise((1, Eq(x, 1)), (0, True))])</th></tr><tr> <th bgcolor=\"#FFDD33\" width=\"30%\" style=\"text-align: left;\"> Avoiding sure loss? </th><td bgcolor=\"#f6f6f6\" style=\"text-align: left;\"> Yes </th></tr></table>"
      ],
      "text/plain": [
       "<PyRational.models.ADG.ADG at 0x7f75c33ec470>"
      ]
     },
     "execution_count": 46,
     "metadata": {},
     "output_type": "execute_result"
    }
   ],
   "source": [
    "optimoptions={ 'method_LISP': 'Cutting_plane', \n",
    "               'SolverLP':'linprog', \n",
    "               'LP_acc_constraints':1e-300,\n",
    "               'SolverNLP':'differential_evolution',\n",
    "               'NLP_alpha_cut':-0.009,\n",
    "               'num_support_points': 10,\n",
    "               'verbose':False}\n",
    "\n",
    "model.check_avs(options=optimoptions)\n",
    "model"
   ]
  },
  {
   "cell_type": "markdown",
   "metadata": {},
   "source": [
    "So Alice is **rational** or, equivalently, her set of desirable gambles is coherent."
   ]
  },
  {
   "cell_type": "markdown",
   "metadata": {},
   "source": [
    "### Inference"
   ]
  },
  {
   "cell_type": "markdown",
   "metadata": {},
   "source": [
    "ADG allows Alice to make inferences on her model.\n",
    "\n",
    "For instance, she may want to assess if a certain gamble $f$ is desirable to her, given  \n",
    "she has accepted the gambles in $G$. In other words, she wants to assess if this gamble belongs to the set `model.G`"
   ]
  },
  {
   "cell_type": "code",
   "execution_count": 47,
   "metadata": {},
   "outputs": [
    {
     "data": {
      "text/plain": [
       "True"
      ]
     },
     "execution_count": 47,
     "metadata": {},
     "output_type": "execute_result"
    }
   ],
   "source": [
    "f=10*g3\n",
    "f_range=(None,None)\n",
    "model.natural_extension(f,f_range,options=optimoptions)"
   ]
  },
  {
   "cell_type": "markdown",
   "metadata": {},
   "source": [
    "This is True, because the desirability of $10*g3$ follows from A.3.\n",
    "Here, `f_range`is the range of $f$, for the moment we can leave it indetermined. We will use it in another notebook. Similarly, we have"
   ]
  },
  {
   "cell_type": "code",
   "execution_count": 48,
   "metadata": {},
   "outputs": [
    {
     "data": {
      "text/plain": [
       "True"
      ]
     },
     "execution_count": 48,
     "metadata": {},
     "output_type": "execute_result"
    }
   ],
   "source": [
    "f=10*g3+g4\n",
    "f_range=(None,None)\n",
    "model.natural_extension(f,f_range,options=optimoptions)"
   ]
  },
  {
   "cell_type": "code",
   "execution_count": 49,
   "metadata": {},
   "outputs": [
    {
     "data": {
      "text/plain": [
       "False"
      ]
     },
     "execution_count": 49,
     "metadata": {},
     "output_type": "execute_result"
    }
   ],
   "source": [
    "f=-g1\n",
    "f_range=(None,None)\n",
    "model.natural_extension(f,f_range,options=optimoptions)"
   ]
  },
  {
   "cell_type": "code",
   "execution_count": 50,
   "metadata": {},
   "outputs": [
    {
     "data": {
      "text/plain": [
       "False"
      ]
     },
     "execution_count": 50,
     "metadata": {},
     "output_type": "execute_result"
    }
   ],
   "source": [
    "f=1*Piecewise((1, Eq(x, 1)), (0, True)) - 1.5*Piecewise((1, Eq(x, 0)), (0, True))\n",
    "f_range=(None,None)\n",
    "model.natural_extension(f,f_range,options=optimoptions)"
   ]
  },
  {
   "cell_type": "markdown",
   "metadata": {},
   "source": [
    "Another important inference in ADG is `lower prevision`. This allows Alice to determine\n",
    "her maximum buying price for a gamble: how much she should pay to buy a certain gamble."
   ]
  },
  {
   "cell_type": "code",
   "execution_count": 51,
   "metadata": {},
   "outputs": [
    {
     "name": "stdout",
     "output_type": "stream",
     "text": [
      "-0.30952380952380953\n"
     ]
    }
   ],
   "source": [
    "lp=model.lower_prevision(f,f_range,options=optimoptions)\n",
    "print(lp)"
   ]
  },
  {
   "cell_type": "markdown",
   "metadata": {},
   "source": [
    "In other words, `lp` is the largest value such that $f-lp$ is desirable to Alice."
   ]
  },
  {
   "cell_type": "code",
   "execution_count": 52,
   "metadata": {},
   "outputs": [
    {
     "data": {
      "text/plain": [
       "True"
      ]
     },
     "execution_count": 52,
     "metadata": {},
     "output_type": "execute_result"
    }
   ],
   "source": [
    "f1=f-lp\n",
    "model.natural_extension(f1,f_range,options=optimoptions)"
   ]
  },
  {
   "cell_type": "code",
   "execution_count": 53,
   "metadata": {},
   "outputs": [
    {
     "data": {
      "text/plain": [
       "False"
      ]
     },
     "execution_count": 53,
     "metadata": {},
     "output_type": "execute_result"
    }
   ],
   "source": [
    "f1=f-lp-0.00000001\n",
    "model.natural_extension(f1,f_range,options=optimoptions)"
   ]
  },
  {
   "cell_type": "markdown",
   "metadata": {},
   "source": [
    "Similarly, Alice may want to determine her minimum selling price for a gamble. This is the `upper_prevision` of $f$"
   ]
  },
  {
   "cell_type": "code",
   "execution_count": 54,
   "metadata": {},
   "outputs": [
    {
     "name": "stdout",
     "output_type": "stream",
     "text": [
      "-0.19047619047619044\n"
     ]
    }
   ],
   "source": [
    "up=model.upper_prevision(f,f_range,options=optimoptions)\n",
    "print(up)"
   ]
  },
  {
   "cell_type": "code",
   "execution_count": 20,
   "metadata": {},
   "outputs": [
    {
     "data": {
      "text/plain": [
       "True"
      ]
     },
     "execution_count": 20,
     "metadata": {},
     "output_type": "execute_result"
    }
   ],
   "source": [
    "f1=up-f\n",
    "model.natural_extension(f1,f_range,options=optimoptions)"
   ]
  },
  {
   "cell_type": "code",
   "execution_count": 55,
   "metadata": {},
   "outputs": [
    {
     "data": {
      "text/plain": [
       "False"
      ]
     },
     "execution_count": 55,
     "metadata": {},
     "output_type": "execute_result"
    }
   ],
   "source": [
    "f1=up-f-0.00000001\n",
    "model.natural_extension(f1,f_range,options=optimoptions)"
   ]
  },
  {
   "cell_type": "markdown",
   "metadata": {},
   "source": [
    "## Updating: inference\n",
    "\n",
    "Alice may want to evaluate how her inferences would change if she knew that the result of the coin toss will be Head.\n",
    "\n",
    "This operation is called `updating` in ADG and is formally equivalent to probabilistic conditioning. It is performed by firstly defining an indicator on the event of interest:"
   ]
  },
  {
   "cell_type": "code",
   "execution_count": 56,
   "metadata": {},
   "outputs": [],
   "source": [
    "h = Piecewise((1.0,Eq(x,1)),(0.0,Eq(x,0)))"
   ]
  },
  {
   "cell_type": "markdown",
   "metadata": {},
   "source": [
    "and then re-computing `lower_prevision` and `upper_prevision` conditionally on this event."
   ]
  },
  {
   "cell_type": "code",
   "execution_count": 58,
   "metadata": {},
   "outputs": [
    {
     "name": "stdout",
     "output_type": "stream",
     "text": [
      "1.0\n"
     ]
    }
   ],
   "source": [
    "lp=model.lower_prevision(f,f_range,h=h,options=optimoptions)\n",
    "print(lp)"
   ]
  },
  {
   "cell_type": "code",
   "execution_count": 60,
   "metadata": {},
   "outputs": [
    {
     "name": "stdout",
     "output_type": "stream",
     "text": [
      "1.0\n"
     ]
    }
   ],
   "source": [
    "up=model.upper_prevision(f,f_range,h=h,options=optimoptions)\n",
    "print(up)"
   ]
  },
  {
   "cell_type": "markdown",
   "metadata": {},
   "source": [
    "Note that, since she knows that the result is Heads, then she is sure that the payoff for $f$ is one."
   ]
  },
  {
   "cell_type": "markdown",
   "metadata": {},
   "source": [
    "## Updating: model\n",
    "\n",
    "Alice may also want to update her whole belief model conditionally on $h$. This can be done as follows:"
   ]
  },
  {
   "cell_type": "code",
   "execution_count": 61,
   "metadata": {},
   "outputs": [
    {
     "data": {
      "text/plain": [
       "[1.0*Piecewise((1, Eq(x, 0)), (0, True)) + 1.0*Piecewise((1, Eq(x, 1)), (0, True)) - 1.0,\n",
       " 1.0*Piecewise((1, Eq(x, 0)), (0, True)) + 0.1*Piecewise((1, Eq(x, 1)), (0, True)) - 0.1,\n",
       " -0.1*Piecewise((1, Eq(x, 0)), (0, True)) + Piecewise((1, Eq(x, 1)), (0, True)) - 1.0,\n",
       " Piecewise((1, Eq(x, 0)), (0, True)) - 0.1*Piecewise((1, Eq(x, 1)), (0, True)) + 0.1,\n",
       " -0.5*Piecewise((1, Eq(x, 0)), (0, True)) + 2*Piecewise((1, Eq(x, 1)), (0, True)) - 2.0,\n",
       " -0.4*Piecewise((1, Eq(x, 0)), (0, True)) + 0.5*Piecewise((1, Eq(x, 1)), (0, True)) - 0.5,\n",
       " 0.5*Piecewise((1, Eq(x, 0)), (0, True)) - 0.4*Piecewise((1, Eq(x, 1)), (0, True)) + 0.4,\n",
       " -Piecewise((1, Eq(x, 0)), (0, True)) + 1.1*Piecewise((1, Eq(x, 1)), (0, True)) - 1.1,\n",
       " 1.1*Piecewise((1, Eq(x, 0)), (0, True)) - Piecewise((1, Eq(x, 1)), (0, True)) + 1.0]"
      ]
     },
     "execution_count": 61,
     "metadata": {},
     "output_type": "execute_result"
    }
   ],
   "source": [
    "NewG = model.updating(h,options=optimoptions)\n",
    "NewG"
   ]
  },
  {
   "cell_type": "markdown",
   "metadata": {},
   "source": [
    "It returns the updated set of desirable gambles. We can use it to build a new belief model."
   ]
  },
  {
   "cell_type": "code",
   "execution_count": 62,
   "metadata": {},
   "outputs": [
    {
     "name": "stdout",
     "output_type": "stream",
     "text": [
      "Belief Model avoids sure  loss\n"
     ]
    },
    {
     "data": {
      "text/html": [
       "<h4>ADG model</h4><table width=\"100%\" border=\"3\"  ><tr> <th bgcolor=\"#FFCC33\" width=\"30%\" style=\"text-align: left;\"> List of Symbols </th><td bgcolor=\"#f1f1f1\" style=\"text-align: left;\">[x]</th></tr><tr> <th bgcolor=\"#FFDD33\" width=\"30%\" style=\"text-align: left;\"> Domain </th><td bgcolor=\"#f6f6f6\" style=\"text-align: left;\">&Omega;={0, 1}</th></tr><tr> <th bgcolor=\"#FFCC33\" width=\"30%\" style=\"text-align: left;\"> List of desirable gambles </th><td bgcolor=\"#f1f1f1\" style=\"text-align: left;\">G=posi(&Lscr;(&Omega;)<sup>+</sup>      &cup;    [1.0*Piecewise((1, Eq(x, 0)), (0, True)) + 1.0*Piecewise((1, Eq(x, 1)), (0, True)) - 1.0, 1.0*Piecewise((1, Eq(x, 0)), (0, True)) + 0.1*Piecewise((1, Eq(x, 1)), (0, True)) - 0.1, -0.1*Piecewise((1, Eq(x, 0)), (0, True)) + Piecewise((1, Eq(x, 1)), (0, True)) - 1.0, Piecewise((1, Eq(x, 0)), (0, True)) - 0.1*Piecewise((1, Eq(x, 1)), (0, True)) + 0.1, -0.5*Piecewise((1, Eq(x, 0)), (0, True)) + 2*Piecewise((1, Eq(x, 1)), (0, True)) - 2.0, -0.4*Piecewise((1, Eq(x, 0)), (0, True)) + 0.5*Piecewise((1, Eq(x, 1)), (0, True)) - 0.5, 0.5*Piecewise((1, Eq(x, 0)), (0, True)) - 0.4*Piecewise((1, Eq(x, 1)), (0, True)) + 0.4, -Piecewise((1, Eq(x, 0)), (0, True)) + 1.1*Piecewise((1, Eq(x, 1)), (0, True)) - 1.1, 1.1*Piecewise((1, Eq(x, 0)), (0, True)) - Piecewise((1, Eq(x, 1)), (0, True)) + 1.0])</th></tr><tr> <th bgcolor=\"#FFDD33\" width=\"30%\" style=\"text-align: left;\"> Avoiding sure loss? </th><td bgcolor=\"#f6f6f6\" style=\"text-align: left;\"> Yes </th></tr></table>"
      ],
      "text/plain": [
       "<PyRational.models.ADG.ADG at 0x7f75bb0b6828>"
      ]
     },
     "execution_count": 62,
     "metadata": {},
     "output_type": "execute_result"
    }
   ],
   "source": [
    "model1 = ADG(ListSymbols,ListDomains)\n",
    "model1.add_gambleList(NewG)\n",
    "model1.buildModel()\n",
    "model1.check_avs()\n",
    "model1"
   ]
  },
  {
   "cell_type": "code",
   "execution_count": 63,
   "metadata": {},
   "outputs": [
    {
     "data": {
      "text/plain": [
       "1.0"
      ]
     },
     "execution_count": 63,
     "metadata": {},
     "output_type": "execute_result"
    }
   ],
   "source": [
    "model1.lower_prevision(f,f_range,options=optimoptions)"
   ]
  },
  {
   "cell_type": "markdown",
   "metadata": {},
   "source": [
    "This is inference is equivalent to `model1.lower_prevision(f,f_range,h=h,options=optimoptions)`"
   ]
  }
 ],
 "metadata": {
  "kernelspec": {
   "display_name": "Python 3",
   "language": "python",
   "name": "python3"
  },
  "language_info": {
   "codemirror_mode": {
    "name": "ipython",
    "version": 3
   },
   "file_extension": ".py",
   "mimetype": "text/x-python",
   "name": "python",
   "nbconvert_exporter": "python",
   "pygments_lexer": "ipython3",
   "version": "3.6.4"
  }
 },
 "nbformat": 4,
 "nbformat_minor": 2
}
